{
  "nbformat": 4,
  "nbformat_minor": 0,
  "metadata": {
    "colab": {
      "name": "IBM OA prepare.ipynb",
      "provenance": [],
      "toc_visible": true,
      "authorship_tag": "ABX9TyMhg6eL5RzKtk+pOrMp+WRj",
      "include_colab_link": true
    },
    "kernelspec": {
      "name": "python3",
      "display_name": "Python 3"
    },
    "language_info": {
      "name": "python"
    }
  },
  "cells": [
    {
      "cell_type": "markdown",
      "metadata": {
        "id": "view-in-github",
        "colab_type": "text"
      },
      "source": [
        "<a href=\"https://colab.research.google.com/github/tinghe14/STUDY-LeetCode-Python-Note/blob/main/IBM_OA_prepare_0925.ipynb\" target=\"_parent\"><img src=\"https://colab.research.google.com/assets/colab-badge.svg\" alt=\"Open In Colab\"/></a>"
      ]
    },
    {
      "cell_type": "markdown",
      "metadata": {
        "id": "5NG38s4XTUOs"
      },
      "source": [
        "20210923 ting he\n",
        "\n",
        "**goal: generate sample code**\n",
        "\n",
        "- cover topic in the followings \n",
        "- reuseable code for next OA as well\n",
        "- resuable comment to explain why this method, why chosing this variables\n",
        "\n"
      ]
    },
    {
      "cell_type": "markdown",
      "metadata": {
        "id": "eVkYdAYnTa6C"
      },
      "source": [
        "**Predict Advert Click**\n",
        "\n",
        "goal: maximize the number of clicks their advertisements generate\n",
        "- using machine learning, predict which users are like to click a particular advertisement and explain how different features affect the prediction \n",
        "- train.csv/ test.csv/ sample_output.csv\n",
        "- variables:\n",
        "  - unique id\n",
        "  - consumer time spent on site (in minutes)\n",
        "  - cosumer age (in years)\n",
        "  - avg income of gepgraphical area of consumer (in us dollar)\n",
        "  - avg minutes a day consumer if on the internent\n",
        "  - headlines of advvertisement\n",
        "  - gender\n",
        "  - country\n",
        "  - timestamp at which consumder clicked on ad or closed window (YYYY-MM-DD HH:MM:SS)\n",
        "  - whether a consumer clicked on the advert or not (0: no, 1: yes)\n",
        "  - extract category from unstracture title\n",
        "    - group by subtopics?\n",
        "      - if not\n",
        "        - assign rule to differentiate\n",
        "      - or discard this one\n",
        "  - whether library \n",
        "\n",
        "- deliverables: \n",
        "  - well commented jupyuter notebook\n",
        "  - submissions.csv\n",
        "  - need to finish in 3 hrs\n",
        "    - plan ahead: 0.5 hr for clean; 0.5 hr to run model; 1.5 hr to evaluate and explain; 0.5 other\n",
        "\n",
        "- need to practice\n",
        "  - feature: \n",
        "    - contains string and numerical\n",
        "    - string contains many categories (1000 data with 200 different countries)\n",
        "    - deal with timestamp data\n",
        "    - missing features\n",
        "    - collinearity\n",
        "    - unblanced data (category data don't need to check since can't see test)\n",
        "  - model\n",
        "    - linear regression\n",
        "    - logistic regression\n",
        "    - random forest (unlinear)\n",
        "    - variable 不多 那就一个个跑\n",
        "  - evaluation\n",
        "    - preciosion \n",
        "    - recall\n",
        "    - F1\n",
        "    - accuracy\n",
        "    - ROC plot\n",
        "    - MSE\n",
        "  - Explanation \n",
        "    - describe the results \n",
        "    - visualization\n",
        "      - top 10 important variable\n",
        "  - familar with library\n",
        "    - numpy\n",
        "    - pandas\n",
        "    - scipy\n",
        "    - scikit-learn\n",
        "    - matplotlib \n",
        "    - seaborn \n",
        "    - 补充from second case: time series的处理方法和结果可视化\n"
      ]
    },
    {
      "cell_type": "markdown",
      "metadata": {
        "id": "Ns8SApmleIwn"
      },
      "source": [
        "**Predict Bike Demand**\n",
        "\n",
        "goal: predict rental count and analyze which factor contribute the most in making this prediction\n",
        "- variables\n",
        "  - record index\n",
        "  - datatime YYYY:MM:DD HH AM/PM\n",
        "  - season (spring, summer, fall, winter)\n",
        "  - holiday (whether day is a holiday or not) (yes or no)\n",
        "  - working day (whether day is workding day)\n",
        "  - weather condition (clear or partly cloudy, mist, light snow or rain, heavy rain/ice pellets/snow + fog)\n",
        "  - avg temperature recorded for the hour (in degree celsius)\n",
        "  - avg feeling temperature recorded for the hour (in degree celsius)\n",
        "  - avg humidity recorded for the hour (in %)\n",
        "  - avg wind speed recorded for the hour (in miles/hour)\n",
        "  - demand (hourly count of bikes rented)"
      ]
    },
    {
      "cell_type": "markdown",
      "metadata": {
        "id": "RFhKctuX35mv"
      },
      "source": [
        "# Data Wrangling and Visualization"
      ]
    },
    {
      "cell_type": "code",
      "metadata": {
        "id": "ATgRcGiRtevD"
      },
      "source": [
        "# loading data set\n",
        "data = pd.read_csv(\"train.csv\")\n",
        "data.head()\n",
        "test_data = pd.read_csv(\"test.csv\")\n",
        "test_data.head()\n",
        "# Explore columns\n",
        "data.columns\n",
        "# Description\n",
        "data.describe()"
      ],
      "execution_count": null,
      "outputs": []
    },
    {
      "cell_type": "markdown",
      "metadata": {
        "id": "fDQ00Y2z4Li7"
      },
      "source": [
        "## Basic of data wrangling cheat sheet"
      ]
    },
    {
      "cell_type": "code",
      "metadata": {
        "id": "LETfodn03Ppj"
      },
      "source": [
        "data.shape\n",
        "type(data)\n",
        "# rename cols\n",
        "data.rename(columns={'Ad Topic Line':'topic'}, inplace=True)\n",
        "# primary key and outcome\n",
        "data = data.set_index(\"id)\n",
        "data = data.rename(columns={\"Clicked\":\"Y\"})\n",
        "# concatenate cols\n",
        "data = pd.concat([df1, df2],axis = 1)\n",
        "# drop one col\n",
        "data = df.drop(\"Sex\", axis = 1)\n",
        "# seperate features and outcome\n",
        "X = data.drop(\"Y\", axis=1).values\n",
        "y = data[\"Y\"].values\n",
        "feature_names = data.drop(\"Y\", axis=1).columns\n",
        "# select features\n",
        "X_names = [\"Age\", \"Fare\", \"Sex_male\", \"SibSp\", \"Pclass_3\", \"Parch\",\n",
        "\"Cabin_section_n\", \"Embarked_S\", \"Pclass_2\", \"Cabin_section_F\", \"Cabin_section_E\", \"Cabin_section_D\"]\n",
        "X_train = data_train[X_names].values\n",
        "y_train = data_train[\"Y\"].values\n",
        "X_test = data_test[X_names].values\n",
        "y_test = data_test[\"Y\"].values"
      ],
      "execution_count": null,
      "outputs": []
    },
    {
      "cell_type": "markdown",
      "metadata": {
        "id": "MX1fmVkev6Q2"
      },
      "source": [
        "## Environment setup\n",
        "import libraries and read data"
      ]
    },
    {
      "cell_type": "code",
      "metadata": {
        "id": "UH1eSItnK5cD"
      },
      "source": [
        "!pip install lime\n",
        "!pip install missingno"
      ],
      "execution_count": null,
      "outputs": []
    },
    {
      "cell_type": "code",
      "metadata": {
        "id": "4eFCp_nuluKD"
      },
      "source": [
        "import warnings\n",
        "warnings.filterwarnings(\"ignore\")"
      ],
      "execution_count": 130,
      "outputs": []
    },
    {
      "cell_type": "code",
      "metadata": {
        "id": "IIV96ysHv-f9"
      },
      "source": [
        "import datetime\n",
        "import time\n",
        "import pandas as pd\n",
        "import numpy as np\n",
        "import matplotlib.pyplot as plt\n",
        "import seaborn as sns\n",
        "import missingno as msno\n",
        "import scipy\n",
        "import statsmodels.formula.api as smf\n",
        "import statsmodels.api as sm\n",
        "from sklearn import model_selection, preprocessing, feature_selection, ensemble, linear_model, metrics, decomposition\n",
        "from lime import lime_tabular\n",
        "data = pd.read_csv('train.csv')"
      ],
      "execution_count": 168,
      "outputs": []
    },
    {
      "cell_type": "code",
      "metadata": {
        "id": "CncoEP8I4D2s"
      },
      "source": [
        "from sklearn.preprocessing import StandardScaler\n",
        "from sklearn.neighbors import KNeighborsClassifier\n",
        "from sklearn.svm import SVC\n",
        "from sklearn.tree import DecisionTreeClassifier\n",
        "from sklearn.ensemble import RandomForestClassifier\n",
        "from sklearn.naive_bayes import GaussianNB\n",
        "from sklearn.discriminant_analysis import QuadraticDiscriminantAnalysis as QDA\n",
        "from sklearn.discriminant_analysis import LinearDiscriminantAnalysis as LDA\n",
        "from sklearn.model_selection import cross_val_score\n",
        "from sklearn.manifold import TSNE\n",
        "from sklearn.model_selection import KFold\n",
        "from sklearn.model_selection import GridSearchCV"
      ],
      "execution_count": 368,
      "outputs": []
    },
    {
      "cell_type": "code",
      "metadata": {
        "colab": {
          "base_uri": "https://localhost:8080/"
        },
        "id": "sWWtqMtHSxGF",
        "outputId": "374d0716-d17e-4538-e4e6-b2d45f8a6fd1"
      },
      "source": [
        "ts = time.time()\n",
        "st = datetime.datetime.fromtimestamp(ts).strftime('%Y-%m-%d %H:%M:%S')\n",
        "print(st)\n",
        "a ={time: [st,st,st]} \n",
        "df_test = pd.DataFrame(a)\n",
        "df_test.dtypes"
      ],
      "execution_count": 54,
      "outputs": [
        {
          "output_type": "stream",
          "name": "stdout",
          "text": [
            "2021-09-24 19:36:41\n"
          ]
        },
        {
          "output_type": "execute_result",
          "data": {
            "text/plain": [
              "<module 'time' (built-in)>    object\n",
              "dtype: object"
            ]
          },
          "metadata": {},
          "execution_count": 54
        }
      ]
    },
    {
      "cell_type": "markdown",
      "metadata": {
        "id": "S4A60tQvwLVE"
      },
      "source": [
        "## Exploratory data analysis\n",
        "understand the meaning and the predictive power of the variable"
      ]
    },
    {
      "cell_type": "code",
      "metadata": {
        "colab": {
          "base_uri": "https://localhost:8080/"
        },
        "id": "QrDl7TgOgZgY",
        "outputId": "30afaf64-d207-446a-88ce-eedfda95ef7a"
      },
      "source": [
        "# check whether a unque patient is one ropw\n",
        "data.index.nunique() / len(data.index) * 100"
      ],
      "execution_count": 108,
      "outputs": [
        {
          "output_type": "execute_result",
          "data": {
            "text/plain": [
              "100.0"
            ]
          },
          "metadata": {},
          "execution_count": 108
        }
      ]
    },
    {
      "cell_type": "markdown",
      "metadata": {
        "id": "DyuiMemRxy9K"
      },
      "source": [
        "### Data analysis overview\n",
        "overview of the whole dataset to see how many categorical and numerical variables and proportion of missing data"
      ]
    },
    {
      "cell_type": "code",
      "metadata": {
        "colab": {
          "base_uri": "https://localhost:8080/",
          "height": 615
        },
        "id": "g6IG3t4fwTwR",
        "outputId": "0c85c52a-df7a-43fa-911e-5306bb02de06"
      },
      "source": [
        "print(\"Dimension of dataframe:\", data.shape)\n",
        "print(\"Data type:\", \"\\n\", data.dtypes)\n",
        "# Determine a column is categorical or numerical.\n",
        "def variable_type(df, col, max_cat = 20): \n",
        "  if (df.dtypes[col] == 'float64' or (df.dtypes[col] == 'int64' and df[col].nunique() > max_cat)):\n",
        "    return 'num' \n",
        "  else:\n",
        "    return 'cat'\n",
        "# with this output and check it manually\n",
        "# -> write a statement of which variable is categorical and which is numerical\n",
        "# in this dataset, we have numerical varibles: age and fare, while rest of them are categorical\n",
        "col_type = {col: variable_type(data, col, 20) for col in data.columns}\n",
        "heatmap = data.isnull()\n",
        "for col, tp in col_type.items():\n",
        "  if tp == \"num\":\n",
        "    heatmap[col] = heatmap[col].apply(lambda x: 0.5 if x is False else 1)\n",
        "  else:\n",
        "    heatmap[col] = heatmap[col].apply(lambda x: 0 if x is False else 1) \n",
        "sns.heatmap(heatmap, cbar = False).set_title(\"Data types with missing data plot\")\n",
        "print(\"black\", \": categorical data\") \n",
        "print(\"cherryred\", \": numerical data\")\n",
        "print(\"white\", \": missing data\")\n",
        "numerical = [col for col, tp in col_type.items() if tp == \"num\"]\n",
        "categorical = [col for col, tp in col_type.items() if tp == \"cat\"]"
      ],
      "execution_count": 110,
      "outputs": [
        {
          "output_type": "stream",
          "name": "stdout",
          "text": [
            "Dimension of dataframe: (891, 11)\n",
            "Data type: \n",
            " Y             int64\n",
            "Pclass        int64\n",
            "Name         object\n",
            "Sex          object\n",
            "Age         float64\n",
            "SibSp         int64\n",
            "Parch         int64\n",
            "Ticket       object\n",
            "Fare        float64\n",
            "Cabin        object\n",
            "Embarked     object\n",
            "dtype: object\n",
            "black : categorical data\n",
            "cherryred : numerical data\n",
            "white : missing data\n"
          ]
        },
        {
          "output_type": "display_data",
          "data": {
            "image/png": "[encoded data removed]",
            "text/plain": [
              "<Figure size 432x288 with 1 Axes>"
            ]
          },
          "metadata": {}
        }
      ]
    },
    {
      "cell_type": "markdown",
      "metadata": {
        "id": "3fRvZ8C6yheJ"
      },
      "source": [
        "### Data analysis detailed visulization\n",
        "numerical: distribution, box plot\n",
        "categorical: bar plot"
      ]
    },
    {
      "cell_type": "code",
      "metadata": {
        "id": "OpxxYqQVy6c4"
      },
      "source": [
        "data = data.set_index('PassengerId')\n",
        "data = data.rename(columns = {'Survived': 'Y'})"
      ],
      "execution_count": 237,
      "outputs": []
    },
    {
      "cell_type": "code",
      "metadata": {
        "colab": {
          "base_uri": "https://localhost:8080/",
          "height": 553
        },
        "id": "JhZ-fEuofqS5",
        "outputId": "3ed568d9-64d4-437d-94e5-848f2cef98fe"
      },
      "source": [
        "# correlation heatmap\n",
        "plt.figure(figsize=(12,9))\n",
        "sns.heatmap(data.corr(),annot=True)\n",
        "plt.title(\"Correlation Heatmap \")\n",
        "plt.show()\n",
        "# -> pclass and fare are negatively related to each ohter"
      ],
      "execution_count": 105,
      "outputs": [
        {
          "output_type": "display_data",
          "data": {
            "image/png": "[encoded data removed]",
            "text/plain": [
              "<Figure size 864x648 with 2 Axes>"
            ]
          },
          "metadata": {}
        }
      ]
    },
    {
      "cell_type": "markdown",
      "metadata": {
        "id": "Ubn_h77fe0a2"
      },
      "source": [
        "#### Uni data analysis"
      ]
    },
    {
      "cell_type": "markdown",
      "metadata": {
        "id": "GIAfkSg_D7b7"
      },
      "source": [
        "##### Categorical "
      ]
    },
    {
      "cell_type": "code",
      "metadata": {
        "colab": {
          "base_uri": "https://localhost:8080/"
        },
        "id": "mVEOulKIplNf",
        "outputId": "3eab4c99-b75b-478e-9f96-2f35e0e67ab9"
      },
      "source": [
        "categorical"
      ],
      "execution_count": 137,
      "outputs": [
        {
          "output_type": "execute_result",
          "data": {
            "text/plain": [
              "['Y', 'Pclass', 'Name', 'Sex', 'SibSp', 'Parch', 'Ticket', 'Cabin', 'Embarked']"
            ]
          },
          "metadata": {},
          "execution_count": 137
        }
      ]
    },
    {
      "cell_type": "markdown",
      "metadata": {
        "id": "9q_3qjvv4alz"
      },
      "source": [
        "#### Text data type"
      ]
    },
    {
      "cell_type": "code",
      "metadata": {
        "id": "xBJPzMBD4h62"
      },
      "source": [
        "# Take topic col as example\n",
        "# can divide into sub category\n",
        "# such as title length\n",
        "data.topic.str.len().describe()"
      ],
      "execution_count": null,
      "outputs": []
    },
    {
      "cell_type": "markdown",
      "metadata": {
        "id": "Mu0yVanr_EvR"
      },
      "source": [
        "#### run model using best parameters"
      ]
    },
    {
      "cell_type": "code",
      "metadata": {
        "id": "ZxX7GB1667L1"
      },
      "source": [
        "## train\n",
        "model.fit(X_train, y_train)\n",
        "## test\n",
        "predicted_prob = model.predict_proba(X_test)[:,1]\n",
        "predicted = model.predict(X_test)"
      ],
      "execution_count": 457,
      "outputs": []
    },
    {
      "cell_type": "code",
      "metadata": {
        "id": "-axhjHrz3pdU"
      },
      "source": [
        "# define classifiers\n",
        "names = [\"Nearest Neighbors\", \"Linear SVM\", \"RBF SVM\", \n",
        "         \"Decision Tree\", \"Random Forest\",\n",
        "         \"Naive Bayes\", \"QDA\",\"LDA\"]\n",
        "\n",
        "classifiers = [\n",
        "    KNeighborsClassifier(3),\n",
        "    SVC(kernel=\"linear\", C=0.025),\n",
        "    SVC(gamma=2, C=1),\n",
        "    DecisionTreeClassifier(max_depth=5),\n",
        "    RandomForestClassifier(max_depth=5, n_estimators=10, max_features=3),\n",
        "    GaussianNB(),\n",
        "    QDA(),\n",
        "    LDA()]\n",
        "\n",
        "k_fold = KFold(n_splits=10,shuffle=True, random_state=42)"
      ],
      "execution_count": 458,
      "outputs": []
    },
    {
      "cell_type": "code",
      "metadata": {
        "colab": {
          "base_uri": "https://localhost:8080/",
          "height": 651
        },
        "id": "IgwIFQUBwwnj",
        "outputId": "20cf3e58-387e-4df7-c85f-519c7dc6a3c0"
      },
      "source": [
        "yasix = []\n",
        "results = []\n",
        "all_feature_perform =[]\n",
        "for name, clf in zip(names, classifiers):\n",
        "    s = cross_val_score(clf,X_train,y_train,cv = k_fold)\n",
        "    results.append(s)\n",
        "    yasix.append(s.mean())\n",
        "    all_feature_perform.append(s.mean())\n",
        "    print(name,s.mean(),s.std(),s.min())\n",
        "    \n",
        "# plot the accuarcy result \n",
        "plt.figure(figsize = (14,8))\n",
        "plt.bar(names,yasix)\n",
        "plt.xlabel(\"Classification Model\")\n",
        "plt.ylabel(\"Accuarcy\")\n",
        "plt.title(\"Model Comparison\")\n",
        "j = 0\n",
        "for i in yasix:\n",
        "    plt.annotate(round(i,5),xy=(names[j],yasix[j]),ha='center',va='bottom')\n",
        "    j=j+1\n",
        "plt.show()"
      ],
      "execution_count": 459,
      "outputs": [
        {
          "output_type": "stream",
          "name": "stdout",
          "text": [
            "Nearest Neighbors 0.7897081413210445 0.047875091385519986 0.7258064516129032\n",
            "Linear SVM 0.7785714285714286 0.05042813817161183 0.6935483870967742\n",
            "RBF SVM 0.8120839733742959 0.038669493144813 0.7258064516129032\n",
            "Decision Tree 0.8105222734254992 0.033152975206879015 0.7580645161290323\n",
            "Random Forest 0.8170250896057347 0.04021104707366282 0.7258064516129032\n",
            "Naive Bayes 0.7543778801843317 0.04401147287189198 0.6612903225806451\n",
            "QDA 0.7818484383000512 0.051350715785943794 0.6774193548387096\n",
            "LDA 0.7913466461853558 0.05277987498408592 0.6774193548387096\n"
          ]
        },
        {
          "output_type": "display_data",
          "data": {
            "image/png": "[encoded data removed]",
            "text/plain": [
              "<Figure size 1008x576 with 1 Axes>"
            ]
          },
          "metadata": {}
        }
      ]
    },
    {
      "cell_type": "code",
      "metadata": {
        "colab": {
          "base_uri": "https://localhost:8080/",
          "height": 295
        },
        "id": "x_CAZWzS6OwV",
        "outputId": "f7966176-1f2f-4d35-c8bf-33ff17fd5f1a"
      },
      "source": [
        "cv = model_selection.StratifiedKFold(n_splits=10, shuffle=True)\n",
        "tprs, aucs = [], []\n",
        "mean_fpr = np.linspace(0,1,100)\n",
        "fig = plt.figure()\n",
        "i = 1\n",
        "for train, test in cv.split(X_train, y_train):\n",
        "   prediction = model.fit(X_train[train],\n",
        "                y_train[train]).predict_proba(X_train[test])\n",
        "   fpr, tpr, t = metrics.roc_curve(y_train[test], prediction[:, 1])\n",
        "   tprs.append(scipy.interp(mean_fpr, fpr, tpr))\n",
        "   roc_auc = metrics.auc(fpr, tpr)\n",
        "   aucs.append(roc_auc)\n",
        "   plt.plot(fpr, tpr, lw=2, alpha=0.3, label='ROC fold %d (AUC = %0.2f)' % (i, roc_auc))\n",
        "   i = i+1\n",
        "   \n",
        "plt.plot([0,1], [0,1], linestyle='--', lw=2, color='black')\n",
        "mean_tpr = np.mean(tprs, axis=0)\n",
        "mean_auc = metrics.auc(mean_fpr, mean_tpr)\n",
        "plt.plot(mean_fpr, mean_tpr, color='blue', label=r'Mean ROC (AUC = %0.2f )' % (mean_auc), lw=2, alpha=1)\n",
        "plt.xlabel('False Positive Rate')\n",
        "plt.ylabel('True Positive Rate')\n",
        "plt.title('K-Fold Validation')\n",
        "plt.legend(loc=\"lower right\")\n",
        "plt.show()"
      ],
      "execution_count": 374,
      "outputs": [
        {
          "output_type": "display_data",
          "data": {
            "image/png": "[encoded data removed]",
            "text/plain": [
              "<Figure size 432x288 with 1 Axes>"
            ]
          },
          "metadata": {}
        }
      ]
    },
    {
      "cell_type": "markdown",
      "metadata": {
        "id": "cgYC2dDRGn9G"
      },
      "source": [
        "##### cat vs num\n"
      ]
    },
    {
      "cell_type": "code",
      "metadata": {
        "id": "12lSmZgZGMci"
      },
      "source": [
        "\"\"\"\n",
        "t test.\n",
        "To evaluate the predictive power between 1 categorical and 1 numerical variable \n",
        "null hypothesis: on relation between the variables\n",
        "PARAMETER\n",
        "---------\n",
        "  df, DataFrame\n",
        "original data file\n",
        "  x, string\n",
        "name of one numerical variable\n",
        "  y, string\n",
        "name of one categorical variable\n",
        "  aplha, double\n",
        "significant value with default value of 0.05\n",
        "RETURN\n",
        "-------\n",
        "  p_value, double\n",
        "result of p value \n",
        "  state, string\n",
        "shows to reject H0 or accept it\n",
        "\"\"\"\n",
        "def t_test (df, x, y , alpha = 0.05):\n",
        "  model = smf.ols(x+'~'+y, data = df).fit()\n",
        "  table = sm.stats.anova_lm(model)\n",
        "  p = table[\"PR(>F)\"][0]\n",
        "  print(\"p value is \" + str(p))\n",
        "  if p <= alpha:\n",
        "      print('Dependent (reject H0)')\n",
        "  else:\n",
        "      print('Independent (H0 holds true)')"
      ],
      "execution_count": 264,
      "outputs": []
    },
    {
      "cell_type": "code",
      "metadata": {
        "colab": {
          "base_uri": "https://localhost:8080/"
        },
        "id": "pguogrBBLLF0",
        "outputId": "8375b05e-5861-4793-96c4-bdc38b7c54b3"
      },
      "source": [
        "t_test(data,'Age','Y', alpha=0.05)"
      ],
      "execution_count": 265,
      "outputs": [
        {
          "output_type": "stream",
          "name": "stdout",
          "text": [
            "p value is 0.03912465401348333\n",
            "Dependent (reject H0)\n"
          ]
        }
      ]
    },
    {
      "cell_type": "code",
      "metadata": {
        "id": "Eq3wTMKfbS89"
      },
      "source": [
        "features.append('Age')"
      ],
      "execution_count": 266,
      "outputs": []
    },
    {
      "cell_type": "code",
      "metadata": {
        "colab": {
          "base_uri": "https://localhost:8080/"
        },
        "id": "aEHtTUwAbWs4",
        "outputId": "1c3b5004-2eca-4a4c-fe64-c246b3910d48"
      },
      "source": [
        "t_test(data,'Fare','Y', alpha=0.05)"
      ],
      "execution_count": 267,
      "outputs": [
        {
          "output_type": "stream",
          "name": "stdout",
          "text": [
            "p value is 6.1201893419215696e-15\n",
            "Dependent (reject H0)\n"
          ]
        }
      ]
    },
    {
      "cell_type": "code",
      "metadata": {
        "id": "x1xRHfWsbfCf"
      },
      "source": [
        "features.append('Fare')"
      ],
      "execution_count": 268,
      "outputs": []
    },
    {
      "cell_type": "markdown",
      "metadata": {
        "id": "LVAKJWK9HMaU"
      },
      "source": [
        "##### num vs num"
      ]
    },
    {
      "cell_type": "code",
      "metadata": {
        "id": "sk7hOsgpGKh5"
      },
      "source": [
        "#x, y = \"GrLivArea\", \"Y\"\n",
        "#dtf_noNan = dtf[dtf[x].notnull()]\n",
        "#coeff, p = scipy.stats.pearsonr(dtf_noNan[x], dtf_noNan[y])\n",
        "#coeff, p = round(coeff, 3), round(p, 3)\n",
        "#conclusion = \"Significant\" if p < 0.05 else \"Non-Significant\"\n",
        "#print(\"Pearson Correlation:\", coeff, conclusion, \"(p-value: \"+str(p)+\")\")"
      ],
      "execution_count": null,
      "outputs": []
    },
    {
      "cell_type": "markdown",
      "metadata": {
        "id": "ndOvWoQMHSDg"
      },
      "source": [
        "#### summary\n",
        "generate summary of feature matrix\n",
        "0. manually remove the valueless variables by background knowledge \n",
        "1. remove variable with many missing data if it can be substitute\n",
        "2. add the one with predictive power"
      ]
    },
    {
      "cell_type": "code",
      "metadata": {
        "colab": {
          "base_uri": "https://localhost:8080/",
          "height": 605
        },
        "id": "S_jjtnB8fpUp",
        "outputId": "af74c049-b0e3-4602-d94e-bcebe07f8ad1"
      },
      "source": [
        "# categorical data using bar plots\n",
        "# for those have less reponses\n",
        "cat_sub_less = ['Y', 'Pclass', 'Sex', 'SibSp', 'Parch', 'Embarked']\n",
        "fig, ax = plt.subplots(2,4, figsize= (20,10))\n",
        "for col, subplot in zip(cat_sub_less, ax.flatten()):\n",
        "  total = float(len(data[col]))\n",
        "  sns.countplot(data[col], ax=subplot)\n",
        "  for label in subplot.get_xticklabels():\n",
        "    label.set_rotation(90)\n",
        "  for p in subplot.patches:\n",
        "    percentage = '{:.1f}%'.format(100 * p.get_height()/total)\n",
        "    x = p.get_x() + p.get_width()\n",
        "    y = p.get_height()\n",
        "    subplot.annotate(percentage, (x, y), ha = 'center')\n",
        "# remove empty plot\n",
        "ax[1,2].set_axis_off()\n",
        "ax[1,3].set_axis_off()"
      ],
      "execution_count": 156,
      "outputs": [
        {
          "output_type": "display_data",
          "data": {
            "image/png": "[encoded data removed]",
            "text/plain": [
              "<Figure size 1440x720 with 8 Axes>"
            ]
          },
          "metadata": {}
        }
      ]
    },
    {
      "cell_type": "code",
      "metadata": {
        "colab": {
          "base_uri": "https://localhost:8080/",
          "height": 454
        },
        "id": "78HJfU56rAme",
        "outputId": "9d61e64a-f6d8-4a4c-b546-ce38ba6fa7fb"
      },
      "source": [
        "# for those have many reponses\n",
        "cat_sub_more = list(set(categorical) - set(cat_sub_less))\n",
        "cat_sub_more_drop = ['Ticket']\n",
        "data[cat_sub_more_drop]"
      ],
      "execution_count": 151,
      "outputs": [
        {
          "output_type": "execute_result",
          "data": {
            "text/html": [
              "<div>\n",
              "<style scoped>\n",
              "    .dataframe tbody tr th:only-of-type {\n",
              "        vertical-align: middle;\n",
              "    }\n",
              "\n",
              "    .dataframe tbody tr th {\n",
              "        vertical-align: top;\n",
              "    }\n",
              "\n",
              "    .dataframe thead th {\n",
              "        text-align: right;\n",
              "    }\n",
              "</style>\n",
              "<table border=\"1\" class=\"dataframe\">\n",
              "  <thead>\n",
              "    <tr style=\"text-align: right;\">\n",
              "      <th></th>\n",
              "      <th>Ticket</th>\n",
              "    </tr>\n",
              "    <tr>\n",
              "      <th>PassengerId</th>\n",
              "      <th></th>\n",
              "    </tr>\n",
              "  </thead>\n",
              "  <tbody>\n",
              "    <tr>\n",
              "      <th>1</th>\n",
              "      <td>A/5 21171</td>\n",
              "    </tr>\n",
              "    <tr>\n",
              "      <th>2</th>\n",
              "      <td>PC 17599</td>\n",
              "    </tr>\n",
              "    <tr>\n",
              "      <th>3</th>\n",
              "      <td>STON/O2. 3101282</td>\n",
              "    </tr>\n",
              "    <tr>\n",
              "      <th>4</th>\n",
              "      <td>113803</td>\n",
              "    </tr>\n",
              "    <tr>\n",
              "      <th>5</th>\n",
              "      <td>373450</td>\n",
              "    </tr>\n",
              "    <tr>\n",
              "      <th>...</th>\n",
              "      <td>...</td>\n",
              "    </tr>\n",
              "    <tr>\n",
              "      <th>887</th>\n",
              "      <td>211536</td>\n",
              "    </tr>\n",
              "    <tr>\n",
              "      <th>888</th>\n",
              "      <td>112053</td>\n",
              "    </tr>\n",
              "    <tr>\n",
              "      <th>889</th>\n",
              "      <td>W./C. 6607</td>\n",
              "    </tr>\n",
              "    <tr>\n",
              "      <th>890</th>\n",
              "      <td>111369</td>\n",
              "    </tr>\n",
              "    <tr>\n",
              "      <th>891</th>\n",
              "      <td>370376</td>\n",
              "    </tr>\n",
              "  </tbody>\n",
              "</table>\n",
              "<p>891 rows × 1 columns</p>\n",
              "</div>"
            ],
            "text/plain": [
              "                       Ticket\n",
              "PassengerId                  \n",
              "1                   A/5 21171\n",
              "2                    PC 17599\n",
              "3            STON/O2. 3101282\n",
              "4                      113803\n",
              "5                      373450\n",
              "...                       ...\n",
              "887                    211536\n",
              "888                    112053\n",
              "889                W./C. 6607\n",
              "890                    111369\n",
              "891                    370376\n",
              "\n",
              "[891 rows x 1 columns]"
            ]
          },
          "metadata": {},
          "execution_count": 151
        }
      ]
    },
    {
      "cell_type": "markdown",
      "metadata": {
        "id": "YQc2saioD_yf"
      },
      "source": [
        "##### Numerical"
      ]
    },
    {
      "cell_type": "code",
      "metadata": {
        "colab": {
          "base_uri": "https://localhost:8080/",
          "height": 606
        },
        "id": "LvNSErA5wykM",
        "outputId": "7e2891a3-7899-4d66-a565-365d8665d926"
      },
      "source": [
        "# numerical number: box plot\n",
        "fig, ax = plt.subplots(1,2, figsize= (20,10))\n",
        "for col, subplot in zip(numerical, ax.flatten()):\n",
        "  sns.boxplot(data[col], ax=subplot)"
      ],
      "execution_count": 158,
      "outputs": [
        {
          "output_type": "display_data",
          "data": {
            "image/png": "[encoded data removed]",
            "text/plain": [
              "<Figure size 1440x720 with 2 Axes>"
            ]
          },
          "metadata": {}
        }
      ]
    },
    {
      "cell_type": "code",
      "metadata": {
        "colab": {
          "base_uri": "https://localhost:8080/"
        },
        "id": "V3KsdVJcyjBq",
        "outputId": "5255a4bf-8084-4a03-c6c7-89d61562db7a"
      },
      "source": [
        "# outlier close-up check\n",
        "data[data['Fare'] > 500]\n",
        "# if you think it is not reasonable and litte counts\n",
        "fare_range = (0, 500)\n",
        "newdata = data[data['Fare'].between(*fare_range,inclusive=True)]\n",
        "newdata.shape"
      ],
      "execution_count": 176,
      "outputs": [
        {
          "output_type": "execute_result",
          "data": {
            "text/plain": [
              "(888, 12)"
            ]
          },
          "metadata": {},
          "execution_count": 176
        }
      ]
    },
    {
      "cell_type": "markdown",
      "metadata": {
        "id": "re8HuAlGe7O5"
      },
      "source": [
        "#### Bi data analysis\n",
        "to decide predict power\n",
        "- categorical (Y) vs numerical (Age): t test\n",
        "- categorical vs categorical: chi-square test\n",
        "- numerical vs numerical: correlation test"
      ]
    },
    {
      "cell_type": "markdown",
      "metadata": {
        "id": "DIXkb6oTEL5n"
      },
      "source": [
        "##### cat vs cat"
      ]
    },
    {
      "cell_type": "code",
      "metadata": {
        "id": "1grfgyUg_6iv"
      },
      "source": [
        "\"\"\"\n",
        "Chi-squre test.\n",
        "To evaluate the predictive power between 2 categorical variables\n",
        "null hypothesis: on relation between the variables\n",
        "PARAMETER\n",
        "---------\n",
        "  x, series\n",
        "one categorical variable\n",
        "  y, series\n",
        "the other categorical variable\n",
        "  aplha, double\n",
        "significant value with default value of 0.05\n",
        "RETURN\n",
        "-------\n",
        "  p_value, double\n",
        "result of p value \n",
        "  state, string\n",
        "shows to reject H0 or accept it\n",
        "\"\"\"\n",
        "def chi_test(x, y, aplha = 0.05):\n",
        "  data = [[x,y]]\n",
        "  stat, p, dof, expected = scipy.stats.chi2_contingency(sex_df)\n",
        "  alpha = 0.05\n",
        "  print(\"p value is \" + str(p))\n",
        "  if p <= alpha:\n",
        "      print('Dependent (reject H0)')\n",
        "  else:\n",
        "      print('Independent (H0 holds true)')\n"
      ],
      "execution_count": 211,
      "outputs": []
    },
    {
      "cell_type": "code",
      "metadata": {
        "colab": {
          "base_uri": "https://localhost:8080/"
        },
        "id": "r2J3_Rk-Dy9s",
        "outputId": "b26a3645-82db-44ab-c51c-7c43971636b7"
      },
      "source": [
        "x, y = 'Sex', 'Y'\n",
        "dct = {'female': 1, 'male': 2}\n",
        "lst = data[x]\n",
        "data_sex = list(map(dct.get, lst))\n",
        "chi_test(data_sex,data['Y'])"
      ],
      "execution_count": 240,
      "outputs": [
        {
          "output_type": "stream",
          "name": "stdout",
          "text": [
            "p value is 3.1195377605057268e-282\n",
            "Dependent (reject H0)\n"
          ]
        }
      ]
    },
    {
      "cell_type": "code",
      "metadata": {
        "id": "ZlKT4N3kH3al"
      },
      "source": [
        "features = []\n",
        "features.append('Sex')"
      ],
      "execution_count": 223,
      "outputs": []
    },
    {
      "cell_type": "code",
      "metadata": {
        "colab": {
          "base_uri": "https://localhost:8080/"
        },
        "id": "ye4FPeYxFNvv",
        "outputId": "23ef7512-1226-4706-e70a-a5b89f0426bb"
      },
      "source": [
        "chi_test(data[\"Pclass\"],data['Y'])"
      ],
      "execution_count": 213,
      "outputs": [
        {
          "output_type": "stream",
          "name": "stdout",
          "text": [
            "p value is 3.1195377605057268e-282\n",
            "Dependent (reject H0)\n"
          ]
        }
      ]
    },
    {
      "cell_type": "code",
      "metadata": {
        "id": "f3O1dJOgIAaF"
      },
      "source": [
        "features.append('Pclass')"
      ],
      "execution_count": 224,
      "outputs": []
    },
    {
      "cell_type": "code",
      "metadata": {
        "colab": {
          "base_uri": "https://localhost:8080/"
        },
        "id": "D85CZxa2FSSe",
        "outputId": "70056442-a505-44ff-815a-1709c1c9e458"
      },
      "source": [
        "chi_test(data[\"SibSp\"],data['Y'])"
      ],
      "execution_count": 214,
      "outputs": [
        {
          "output_type": "stream",
          "name": "stdout",
          "text": [
            "p value is 3.1195377605057268e-282\n",
            "Dependent (reject H0)\n"
          ]
        }
      ]
    },
    {
      "cell_type": "code",
      "metadata": {
        "id": "9BBTa3ToIDX9"
      },
      "source": [
        "features.append('SibSp')"
      ],
      "execution_count": 225,
      "outputs": []
    },
    {
      "cell_type": "code",
      "metadata": {
        "colab": {
          "base_uri": "https://localhost:8080/"
        },
        "id": "cmnLK00ZFdVi",
        "outputId": "b8338be0-8c29-4369-88c6-6d0a45936bdd"
      },
      "source": [
        "chi_test(data[\"Parch\"],data['Y'])"
      ],
      "execution_count": 215,
      "outputs": [
        {
          "output_type": "stream",
          "name": "stdout",
          "text": [
            "p value is 3.1195377605057268e-282\n",
            "Dependent (reject H0)\n"
          ]
        }
      ]
    },
    {
      "cell_type": "code",
      "metadata": {
        "id": "oFB0TRsMIHQX"
      },
      "source": [
        "features.append('Parch')"
      ],
      "execution_count": 226,
      "outputs": []
    },
    {
      "cell_type": "code",
      "metadata": {
        "colab": {
          "base_uri": "https://localhost:8080/"
        },
        "id": "M5gqZTJdFr_l",
        "outputId": "c281bafe-bbdd-47e7-8ec3-472acee1b24d"
      },
      "source": [
        "data['Embarked'].unique()"
      ],
      "execution_count": 219,
      "outputs": [
        {
          "output_type": "execute_result",
          "data": {
            "text/plain": [
              "array(['S', 'C', 'Q', nan], dtype=object)"
            ]
          },
          "metadata": {},
          "execution_count": 219
        }
      ]
    },
    {
      "cell_type": "code",
      "metadata": {
        "colab": {
          "base_uri": "https://localhost:8080/"
        },
        "id": "IW1r0Z7SGITt",
        "outputId": "01868f85-5784-4ecc-d4ba-8fba7603e219"
      },
      "source": [
        "x, y = 'Embarked', 'Y'\n",
        "dct = {'S': 1, 'C': 2,'Q': 3}\n",
        "lst = data[x]\n",
        "data_em = list(map(dct.get, lst))\n",
        "chi_test(data_em,data['Y'])"
      ],
      "execution_count": 220,
      "outputs": [
        {
          "output_type": "stream",
          "name": "stdout",
          "text": [
            "p value is 3.1195377605057268e-282\n",
            "Dependent (reject H0)\n"
          ]
        }
      ]
    },
    {
      "cell_type": "code",
      "metadata": {
        "id": "iu2Y5whHIL7f"
      },
      "source": [
        "features.append('Embarked')"
      ],
      "execution_count": 227,
      "outputs": []
    },
    {
      "cell_type": "markdown",
      "metadata": {
        "id": "sGNxQQ-9wTNV"
      },
      "source": [
        "## Feature engineering\n",
        "extract features from raw data"
      ]
    },
    {
      "cell_type": "code",
      "metadata": {
        "colab": {
          "base_uri": "https://localhost:8080/"
        },
        "id": "cItGAk1Gbish",
        "outputId": "93909352-8502-4097-cf9d-3d6821be67ec"
      },
      "source": [
        "features"
      ],
      "execution_count": 432,
      "outputs": [
        {
          "output_type": "execute_result",
          "data": {
            "text/plain": [
              "['Sex', 'Pclass', 'SibSp', 'Parch', 'Embarked', 'Age', 'Fare']"
            ]
          },
          "metadata": {},
          "execution_count": 432
        }
      ]
    },
    {
      "cell_type": "code",
      "metadata": {
        "colab": {
          "base_uri": "https://localhost:8080/",
          "height": 112
        },
        "id": "3AzkRSEPHrmV",
        "outputId": "5e6dc087-f49b-40e1-962d-16aeab9ec423"
      },
      "source": [
        "data_f = data[features + ['Y']]\n",
        "data_f.head(1)"
      ],
      "execution_count": 433,
      "outputs": [
        {
          "output_type": "execute_result",
          "data": {
            "text/html": [
              "<div>\n",
              "<style scoped>\n",
              "    .dataframe tbody tr th:only-of-type {\n",
              "        vertical-align: middle;\n",
              "    }\n",
              "\n",
              "    .dataframe tbody tr th {\n",
              "        vertical-align: top;\n",
              "    }\n",
              "\n",
              "    .dataframe thead th {\n",
              "        text-align: right;\n",
              "    }\n",
              "</style>\n",
              "<table border=\"1\" class=\"dataframe\">\n",
              "  <thead>\n",
              "    <tr style=\"text-align: right;\">\n",
              "      <th></th>\n",
              "      <th>Sex</th>\n",
              "      <th>Pclass</th>\n",
              "      <th>SibSp</th>\n",
              "      <th>Parch</th>\n",
              "      <th>Embarked</th>\n",
              "      <th>Age</th>\n",
              "      <th>Fare</th>\n",
              "      <th>Y</th>\n",
              "    </tr>\n",
              "    <tr>\n",
              "      <th>PassengerId</th>\n",
              "      <th></th>\n",
              "      <th></th>\n",
              "      <th></th>\n",
              "      <th></th>\n",
              "      <th></th>\n",
              "      <th></th>\n",
              "      <th></th>\n",
              "      <th></th>\n",
              "    </tr>\n",
              "  </thead>\n",
              "  <tbody>\n",
              "    <tr>\n",
              "      <th>1</th>\n",
              "      <td>male</td>\n",
              "      <td>3</td>\n",
              "      <td>1</td>\n",
              "      <td>0</td>\n",
              "      <td>S</td>\n",
              "      <td>22.0</td>\n",
              "      <td>7.25</td>\n",
              "      <td>0</td>\n",
              "    </tr>\n",
              "  </tbody>\n",
              "</table>\n",
              "</div>"
            ],
            "text/plain": [
              "              Sex  Pclass  SibSp  Parch Embarked   Age  Fare  Y\n",
              "PassengerId                                                    \n",
              "1            male       3      1      0        S  22.0  7.25  0"
            ]
          },
          "metadata": {},
          "execution_count": 433
        }
      ]
    },
    {
      "cell_type": "markdown",
      "metadata": {
        "id": "WlhRey9zwY2q"
      },
      "source": [
        "## Preprocesing\n",
        "data partitioning, handle missing value, encode categorical variables, scale (make it ready for machine learning)\n",
        "- each observationb must be represented by a signle row, feature matrix\n",
        "- partitioned into training and test sets\n",
        "- missing values should be replaced with something\n",
        "- categorical data must be encoded\n",
        "- scale data\n"
      ]
    },
    {
      "cell_type": "markdown",
      "metadata": {
        "id": "aHXvFWtftloT"
      },
      "source": [
        "#### Split data"
      ]
    },
    {
      "cell_type": "code",
      "metadata": {
        "id": "pLHGtkMCtnxv"
      },
      "source": [
        "## split data\n",
        "df_train, df_test = model_selection.train_test_split(data_f, \n",
        "                      test_size=0.3)\n"
      ],
      "execution_count": 434,
      "outputs": []
    },
    {
      "cell_type": "markdown",
      "metadata": {
        "id": "WbC2i8UXg1sE"
      },
      "source": [
        "### Missing value"
      ]
    },
    {
      "cell_type": "code",
      "metadata": {
        "id": "5CTVBZnHg1MF"
      },
      "source": [
        "'''\n",
        "Replace Na with a specific value or mean for numerical and mode for categorical. \n",
        "'''\n",
        "def fill_na(df, x, value=None):\n",
        "    if value is None:\n",
        "        value = df[x].mean() if x in numerical else df[x].mode().iloc[0]\n",
        "        print(x)\n",
        "        print(\"missng percentage: \", df[x].isnull().sum()*100/ len(df[x]))\n",
        "        print(x,\"--- Replacing Nas with:\", value, \"---\")\n",
        "        df[x] = df[x].fillna(value)\n",
        "        return df, value\n",
        "    else:\n",
        "        print(\"--- Replacing Nas with:\", value, \"---\")\n",
        "        dtf[x] = df[x].fillna(value)\n",
        "        return df\n"
      ],
      "execution_count": 419,
      "outputs": []
    },
    {
      "cell_type": "code",
      "metadata": {
        "colab": {
          "base_uri": "https://localhost:8080/"
        },
        "id": "ro4wXKsrhHB9",
        "outputId": "aec1017c-897d-45b3-de09-90a8c4d8d558"
      },
      "source": [
        "for col in df_train:\n",
        "  fill_na(df_train, col)"
      ],
      "execution_count": 420,
      "outputs": [
        {
          "output_type": "stream",
          "name": "stdout",
          "text": [
            "Sex\n",
            "missng percentage:  0.0\n",
            "Sex --- Replacing Nas with: male ---\n",
            "Pclass\n",
            "missng percentage:  0.0\n",
            "Pclass --- Replacing Nas with: 3 ---\n",
            "SibSp\n",
            "missng percentage:  0.0\n",
            "SibSp --- Replacing Nas with: 0 ---\n",
            "Parch\n",
            "missng percentage:  0.0\n",
            "Parch --- Replacing Nas with: 0 ---\n",
            "Embarked\n",
            "missng percentage:  0.16051364365971107\n",
            "Embarked --- Replacing Nas with: S ---\n",
            "Age\n",
            "missng percentage:  20.064205457463885\n",
            "Age --- Replacing Nas with: 29.893574297188756 ---\n",
            "Fare\n",
            "missng percentage:  0.0\n",
            "Fare --- Replacing Nas with: 32.76779630818618 ---\n",
            "Y\n",
            "missng percentage:  0.0\n",
            "Y --- Replacing Nas with: 0 ---\n"
          ]
        }
      ]
    },
    {
      "cell_type": "markdown",
      "metadata": {
        "id": "LYbQeLC04SSd"
      },
      "source": [
        "### Categorical data encoder\n",
        "one-hot-encoder would transform the datfa to (n-1) dummy variables"
      ]
    },
    {
      "cell_type": "code",
      "metadata": {
        "id": "lE11BVzl4Z_2"
      },
      "source": [
        "'''\n",
        "Transforms a categorical column into dummy columns\n",
        "pay attention to if it has many subclass, need to find another way\n",
        ":parameter\n",
        "    :param dtf: dataframe - feature matrix dtf\n",
        "    :param x: str - column name\n",
        "    :param dropx: logic - whether the x column should be dropped\n",
        ":return\n",
        "    dtf with dummy columns added\n",
        "'''\n",
        "def add_dummies(df, x, dropx=True):\n",
        "    df_dummy = pd.get_dummies(df[x], prefix=x, drop_first=True, dummy_na=False)\n",
        "    df = pd.concat([df, df_dummy], axis=1)\n",
        "    #print( df.filter(like=x, axis=1).head() )\n",
        "    if dropx == True:\n",
        "        df = df.drop(x, axis=1)\n",
        "    return df\n",
        "    "
      ],
      "execution_count": 398,
      "outputs": []
    },
    {
      "cell_type": "code",
      "metadata": {
        "id": "fIYA-mEjj2bG"
      },
      "source": [
        "for col in cat_sub_less:\n",
        "  if col in categorical and col != 'Y':\n",
        "    df_train = add_dummies(df_train, col, True)"
      ],
      "execution_count": 421,
      "outputs": []
    },
    {
      "cell_type": "code",
      "metadata": {
        "colab": {
          "base_uri": "https://localhost:8080/"
        },
        "id": "j-mw6mG0mUrW",
        "outputId": "ed20d228-a44f-4821-d56f-b53c9a7d3c1e"
      },
      "source": [
        "data.isnull().sum()"
      ],
      "execution_count": 358,
      "outputs": [
        {
          "output_type": "execute_result",
          "data": {
            "text/plain": [
              "Y             0\n",
              "Pclass        0\n",
              "Name          0\n",
              "Sex           0\n",
              "Age         177\n",
              "SibSp         0\n",
              "Parch         0\n",
              "Ticket        0\n",
              "Fare          0\n",
              "Cabin       687\n",
              "Embarked      2\n",
              "dtype: int64"
            ]
          },
          "metadata": {},
          "execution_count": 358
        }
      ]
    },
    {
      "cell_type": "code",
      "metadata": {
        "colab": {
          "base_uri": "https://localhost:8080/",
          "height": 163
        },
        "id": "p9M9HbQil_0I",
        "outputId": "8cc44800-b461-49f2-9e08-0e8a74d10785"
      },
      "source": [
        "df_train.head(2)"
      ],
      "execution_count": 422,
      "outputs": [
        {
          "output_type": "execute_result",
          "data": {
            "text/html": [
              "<div>\n",
              "<style scoped>\n",
              "    .dataframe tbody tr th:only-of-type {\n",
              "        vertical-align: middle;\n",
              "    }\n",
              "\n",
              "    .dataframe tbody tr th {\n",
              "        vertical-align: top;\n",
              "    }\n",
              "\n",
              "    .dataframe thead th {\n",
              "        text-align: right;\n",
              "    }\n",
              "</style>\n",
              "<table border=\"1\" class=\"dataframe\">\n",
              "  <thead>\n",
              "    <tr style=\"text-align: right;\">\n",
              "      <th></th>\n",
              "      <th>Age</th>\n",
              "      <th>Fare</th>\n",
              "      <th>Y</th>\n",
              "      <th>Pclass_2</th>\n",
              "      <th>Pclass_3</th>\n",
              "      <th>Sex_male</th>\n",
              "      <th>SibSp_1</th>\n",
              "      <th>SibSp_2</th>\n",
              "      <th>SibSp_3</th>\n",
              "      <th>SibSp_4</th>\n",
              "      <th>SibSp_5</th>\n",
              "      <th>SibSp_8</th>\n",
              "      <th>Parch_1</th>\n",
              "      <th>Parch_2</th>\n",
              "      <th>Parch_3</th>\n",
              "      <th>Parch_4</th>\n",
              "      <th>Parch_5</th>\n",
              "      <th>Parch_6</th>\n",
              "      <th>Embarked_Q</th>\n",
              "      <th>Embarked_S</th>\n",
              "    </tr>\n",
              "    <tr>\n",
              "      <th>PassengerId</th>\n",
              "      <th></th>\n",
              "      <th></th>\n",
              "      <th></th>\n",
              "      <th></th>\n",
              "      <th></th>\n",
              "      <th></th>\n",
              "      <th></th>\n",
              "      <th></th>\n",
              "      <th></th>\n",
              "      <th></th>\n",
              "      <th></th>\n",
              "      <th></th>\n",
              "      <th></th>\n",
              "      <th></th>\n",
              "      <th></th>\n",
              "      <th></th>\n",
              "      <th></th>\n",
              "      <th></th>\n",
              "      <th></th>\n",
              "      <th></th>\n",
              "    </tr>\n",
              "  </thead>\n",
              "  <tbody>\n",
              "    <tr>\n",
              "      <th>224</th>\n",
              "      <td>29.893574</td>\n",
              "      <td>7.8958</td>\n",
              "      <td>0</td>\n",
              "      <td>0</td>\n",
              "      <td>1</td>\n",
              "      <td>1</td>\n",
              "      <td>0</td>\n",
              "      <td>0</td>\n",
              "      <td>0</td>\n",
              "      <td>0</td>\n",
              "      <td>0</td>\n",
              "      <td>0</td>\n",
              "      <td>0</td>\n",
              "      <td>0</td>\n",
              "      <td>0</td>\n",
              "      <td>0</td>\n",
              "      <td>0</td>\n",
              "      <td>0</td>\n",
              "      <td>0</td>\n",
              "      <td>1</td>\n",
              "    </tr>\n",
              "    <tr>\n",
              "      <th>418</th>\n",
              "      <td>18.000000</td>\n",
              "      <td>13.0000</td>\n",
              "      <td>1</td>\n",
              "      <td>1</td>\n",
              "      <td>0</td>\n",
              "      <td>0</td>\n",
              "      <td>0</td>\n",
              "      <td>0</td>\n",
              "      <td>0</td>\n",
              "      <td>0</td>\n",
              "      <td>0</td>\n",
              "      <td>0</td>\n",
              "      <td>0</td>\n",
              "      <td>1</td>\n",
              "      <td>0</td>\n",
              "      <td>0</td>\n",
              "      <td>0</td>\n",
              "      <td>0</td>\n",
              "      <td>0</td>\n",
              "      <td>1</td>\n",
              "    </tr>\n",
              "  </tbody>\n",
              "</table>\n",
              "</div>"
            ],
            "text/plain": [
              "                   Age     Fare  Y  ...  Parch_6  Embarked_Q  Embarked_S\n",
              "PassengerId                         ...                                 \n",
              "224          29.893574   7.8958  0  ...        0           0           1\n",
              "418          18.000000  13.0000  1  ...        0           0           1\n",
              "\n",
              "[2 rows x 20 columns]"
            ]
          },
          "metadata": {},
          "execution_count": 422
        }
      ]
    },
    {
      "cell_type": "code",
      "metadata": {
        "colab": {
          "base_uri": "https://localhost:8080/"
        },
        "id": "uPsrqnr4mrzD",
        "outputId": "22a4301e-cf5d-4a4e-881e-332d27a9a894"
      },
      "source": [
        "df_train.isnull().sum()"
      ],
      "execution_count": 423,
      "outputs": [
        {
          "output_type": "execute_result",
          "data": {
            "text/plain": [
              "Age           0\n",
              "Fare          0\n",
              "Y             0\n",
              "Pclass_2      0\n",
              "Pclass_3      0\n",
              "Sex_male      0\n",
              "SibSp_1       0\n",
              "SibSp_2       0\n",
              "SibSp_3       0\n",
              "SibSp_4       0\n",
              "SibSp_5       0\n",
              "SibSp_8       0\n",
              "Parch_1       0\n",
              "Parch_2       0\n",
              "Parch_3       0\n",
              "Parch_4       0\n",
              "Parch_5       0\n",
              "Parch_6       0\n",
              "Embarked_Q    0\n",
              "Embarked_S    0\n",
              "dtype: int64"
            ]
          },
          "metadata": {},
          "execution_count": 423
        }
      ]
    },
    {
      "cell_type": "markdown",
      "metadata": {
        "id": "tuTmttd-qXAW"
      },
      "source": [
        "### Scale feature"
      ]
    },
    {
      "cell_type": "code",
      "metadata": {
        "colab": {
          "base_uri": "https://localhost:8080/",
          "height": 256
        },
        "id": "RO-R97evqeE9",
        "outputId": "852b08a5-8942-4185-c9fa-8b8c8661d09d"
      },
      "source": [
        "scaler = preprocessing.MinMaxScaler(feature_range=(0,1))\n",
        "X = scaler.fit_transform(df_train.drop(\"Y\", axis=1))\n",
        "df_train_scaled= pd.DataFrame(X, columns=df_train.drop(\"Y\", axis=1).columns, index=df_train.index)\n",
        "df_train_scaled[\"Y\"] = df_train[\"Y\"]\n",
        "df_train_scaled.head()"
      ],
      "execution_count": 424,
      "outputs": [
        {
          "output_type": "execute_result",
          "data": {
            "text/html": [
              "<div>\n",
              "<style scoped>\n",
              "    .dataframe tbody tr th:only-of-type {\n",
              "        vertical-align: middle;\n",
              "    }\n",
              "\n",
              "    .dataframe tbody tr th {\n",
              "        vertical-align: top;\n",
              "    }\n",
              "\n",
              "    .dataframe thead th {\n",
              "        text-align: right;\n",
              "    }\n",
              "</style>\n",
              "<table border=\"1\" class=\"dataframe\">\n",
              "  <thead>\n",
              "    <tr style=\"text-align: right;\">\n",
              "      <th></th>\n",
              "      <th>Age</th>\n",
              "      <th>Fare</th>\n",
              "      <th>Pclass_2</th>\n",
              "      <th>Pclass_3</th>\n",
              "      <th>Sex_male</th>\n",
              "      <th>SibSp_1</th>\n",
              "      <th>SibSp_2</th>\n",
              "      <th>SibSp_3</th>\n",
              "      <th>SibSp_4</th>\n",
              "      <th>SibSp_5</th>\n",
              "      <th>SibSp_8</th>\n",
              "      <th>Parch_1</th>\n",
              "      <th>Parch_2</th>\n",
              "      <th>Parch_3</th>\n",
              "      <th>Parch_4</th>\n",
              "      <th>Parch_5</th>\n",
              "      <th>Parch_6</th>\n",
              "      <th>Embarked_Q</th>\n",
              "      <th>Embarked_S</th>\n",
              "      <th>Y</th>\n",
              "    </tr>\n",
              "    <tr>\n",
              "      <th>PassengerId</th>\n",
              "      <th></th>\n",
              "      <th></th>\n",
              "      <th></th>\n",
              "      <th></th>\n",
              "      <th></th>\n",
              "      <th></th>\n",
              "      <th></th>\n",
              "      <th></th>\n",
              "      <th></th>\n",
              "      <th></th>\n",
              "      <th></th>\n",
              "      <th></th>\n",
              "      <th></th>\n",
              "      <th></th>\n",
              "      <th></th>\n",
              "      <th></th>\n",
              "      <th></th>\n",
              "      <th></th>\n",
              "      <th></th>\n",
              "      <th></th>\n",
              "    </tr>\n",
              "  </thead>\n",
              "  <tbody>\n",
              "    <tr>\n",
              "      <th>224</th>\n",
              "      <td>0.398521</td>\n",
              "      <td>0.015412</td>\n",
              "      <td>0.0</td>\n",
              "      <td>1.0</td>\n",
              "      <td>1.0</td>\n",
              "      <td>0.0</td>\n",
              "      <td>0.0</td>\n",
              "      <td>0.0</td>\n",
              "      <td>0.0</td>\n",
              "      <td>0.0</td>\n",
              "      <td>0.0</td>\n",
              "      <td>0.0</td>\n",
              "      <td>0.0</td>\n",
              "      <td>0.0</td>\n",
              "      <td>0.0</td>\n",
              "      <td>0.0</td>\n",
              "      <td>0.0</td>\n",
              "      <td>0.0</td>\n",
              "      <td>1.0</td>\n",
              "      <td>0</td>\n",
              "    </tr>\n",
              "    <tr>\n",
              "      <th>418</th>\n",
              "      <td>0.236329</td>\n",
              "      <td>0.025374</td>\n",
              "      <td>1.0</td>\n",
              "      <td>0.0</td>\n",
              "      <td>0.0</td>\n",
              "      <td>0.0</td>\n",
              "      <td>0.0</td>\n",
              "      <td>0.0</td>\n",
              "      <td>0.0</td>\n",
              "      <td>0.0</td>\n",
              "      <td>0.0</td>\n",
              "      <td>0.0</td>\n",
              "      <td>1.0</td>\n",
              "      <td>0.0</td>\n",
              "      <td>0.0</td>\n",
              "      <td>0.0</td>\n",
              "      <td>0.0</td>\n",
              "      <td>0.0</td>\n",
              "      <td>1.0</td>\n",
              "      <td>1</td>\n",
              "    </tr>\n",
              "    <tr>\n",
              "      <th>312</th>\n",
              "      <td>0.236329</td>\n",
              "      <td>0.512122</td>\n",
              "      <td>0.0</td>\n",
              "      <td>0.0</td>\n",
              "      <td>0.0</td>\n",
              "      <td>0.0</td>\n",
              "      <td>1.0</td>\n",
              "      <td>0.0</td>\n",
              "      <td>0.0</td>\n",
              "      <td>0.0</td>\n",
              "      <td>0.0</td>\n",
              "      <td>0.0</td>\n",
              "      <td>1.0</td>\n",
              "      <td>0.0</td>\n",
              "      <td>0.0</td>\n",
              "      <td>0.0</td>\n",
              "      <td>0.0</td>\n",
              "      <td>0.0</td>\n",
              "      <td>0.0</td>\n",
              "      <td>1</td>\n",
              "    </tr>\n",
              "    <tr>\n",
              "      <th>691</th>\n",
              "      <td>0.413610</td>\n",
              "      <td>0.111257</td>\n",
              "      <td>0.0</td>\n",
              "      <td>0.0</td>\n",
              "      <td>1.0</td>\n",
              "      <td>1.0</td>\n",
              "      <td>0.0</td>\n",
              "      <td>0.0</td>\n",
              "      <td>0.0</td>\n",
              "      <td>0.0</td>\n",
              "      <td>0.0</td>\n",
              "      <td>0.0</td>\n",
              "      <td>0.0</td>\n",
              "      <td>0.0</td>\n",
              "      <td>0.0</td>\n",
              "      <td>0.0</td>\n",
              "      <td>0.0</td>\n",
              "      <td>0.0</td>\n",
              "      <td>1.0</td>\n",
              "      <td>1</td>\n",
              "    </tr>\n",
              "    <tr>\n",
              "      <th>490</th>\n",
              "      <td>0.113596</td>\n",
              "      <td>0.031035</td>\n",
              "      <td>0.0</td>\n",
              "      <td>1.0</td>\n",
              "      <td>1.0</td>\n",
              "      <td>1.0</td>\n",
              "      <td>0.0</td>\n",
              "      <td>0.0</td>\n",
              "      <td>0.0</td>\n",
              "      <td>0.0</td>\n",
              "      <td>0.0</td>\n",
              "      <td>1.0</td>\n",
              "      <td>0.0</td>\n",
              "      <td>0.0</td>\n",
              "      <td>0.0</td>\n",
              "      <td>0.0</td>\n",
              "      <td>0.0</td>\n",
              "      <td>0.0</td>\n",
              "      <td>1.0</td>\n",
              "      <td>1</td>\n",
              "    </tr>\n",
              "  </tbody>\n",
              "</table>\n",
              "</div>"
            ],
            "text/plain": [
              "                  Age      Fare  Pclass_2  ...  Embarked_Q  Embarked_S  Y\n",
              "PassengerId                                ...                           \n",
              "224          0.398521  0.015412       0.0  ...         0.0         1.0  0\n",
              "418          0.236329  0.025374       1.0  ...         0.0         1.0  1\n",
              "312          0.236329  0.512122       0.0  ...         0.0         0.0  1\n",
              "691          0.413610  0.111257       0.0  ...         0.0         1.0  1\n",
              "490          0.113596  0.031035       0.0  ...         0.0         1.0  1\n",
              "\n",
              "[5 rows x 20 columns]"
            ]
          },
          "metadata": {},
          "execution_count": 424
        }
      ]
    },
    {
      "cell_type": "markdown",
      "metadata": {
        "id": "t3ZZckP4wnOU"
      },
      "source": [
        "## Feature selection\n",
        "keep only the most relevant variables to build machine learning model. t makes the model easier to interpret and reduces overfitting (when the model adapts too much to the training data and performs badly outside the train set).\n",
        "I already did a first “manual” feature selection during data analysis by excluding irrelevant columns. Now it’s going to be a bit different because we assume that all the features in the matrix are relevant and we want to drop the unnecessary ones. When a feature is not necessary? Well, the answer is easy: when there is a better equivalent, or one that does the same job but better."
      ]
    },
    {
      "cell_type": "code",
      "metadata": {
        "id": "FF8jpRkIxLYl"
      },
      "source": [
        "# use lasso regurization and random forest to select important variables\n"
      ],
      "execution_count": null,
      "outputs": []
    },
    {
      "cell_type": "markdown",
      "metadata": {
        "id": "MaR36_6c7XCj"
      },
      "source": [
        "#### preprocess test data"
      ]
    },
    {
      "cell_type": "code",
      "metadata": {
        "colab": {
          "base_uri": "https://localhost:8080/"
        },
        "id": "7hXqdWly7bjD",
        "outputId": "c8f1dcdb-3371-4825-95f7-cf258c454d21"
      },
      "source": [
        "for col in df_test:\n",
        "  fill_na(df_test, col)"
      ],
      "execution_count": 405,
      "outputs": [
        {
          "output_type": "stream",
          "name": "stdout",
          "text": [
            "Sex\n",
            "missng percentage:  0.0\n",
            "Sex --- Replacing Nas with: male ---\n",
            "Pclass\n",
            "missng percentage:  0.0\n",
            "Pclass --- Replacing Nas with: 3 ---\n",
            "SibSp\n",
            "missng percentage:  0.0\n",
            "SibSp --- Replacing Nas with: 0 ---\n",
            "Parch\n",
            "missng percentage:  0.0\n",
            "Parch --- Replacing Nas with: 0 ---\n",
            "Embarked\n",
            "missng percentage:  0.0\n",
            "Embarked --- Replacing Nas with: S ---\n",
            "Age\n",
            "missng percentage:  18.65671641791045\n",
            "Age --- Replacing Nas with: 29.202981651376145 ---\n",
            "Fare\n",
            "missng percentage:  0.0\n",
            "Fare --- Replacing Nas with: 33.22604104477613 ---\n",
            "Y\n",
            "missng percentage:  0.0\n",
            "Y --- Replacing Nas with: 0 ---\n"
          ]
        }
      ]
    },
    {
      "cell_type": "code",
      "metadata": {
        "id": "80KRK_qT7pbZ"
      },
      "source": [
        "for col in cat_sub_less:\n",
        "  if col in categorical and col != 'Y':\n",
        "    df_test= add_dummies(df_test, col, True)"
      ],
      "execution_count": 406,
      "outputs": []
    },
    {
      "cell_type": "code",
      "metadata": {
        "colab": {
          "base_uri": "https://localhost:8080/",
          "height": 163
        },
        "id": "YM9SY0ru7wCx",
        "outputId": "f4d0c7fa-0158-4416-deb6-dae7f2c18491"
      },
      "source": [
        "df_test.head(2)"
      ],
      "execution_count": 407,
      "outputs": [
        {
          "output_type": "execute_result",
          "data": {
            "text/html": [
              "<div>\n",
              "<style scoped>\n",
              "    .dataframe tbody tr th:only-of-type {\n",
              "        vertical-align: middle;\n",
              "    }\n",
              "\n",
              "    .dataframe tbody tr th {\n",
              "        vertical-align: top;\n",
              "    }\n",
              "\n",
              "    .dataframe thead th {\n",
              "        text-align: right;\n",
              "    }\n",
              "</style>\n",
              "<table border=\"1\" class=\"dataframe\">\n",
              "  <thead>\n",
              "    <tr style=\"text-align: right;\">\n",
              "      <th></th>\n",
              "      <th>Age</th>\n",
              "      <th>Fare</th>\n",
              "      <th>Y</th>\n",
              "      <th>Pclass_2</th>\n",
              "      <th>Pclass_3</th>\n",
              "      <th>Sex_male</th>\n",
              "      <th>SibSp_1</th>\n",
              "      <th>SibSp_2</th>\n",
              "      <th>SibSp_3</th>\n",
              "      <th>SibSp_4</th>\n",
              "      <th>SibSp_8</th>\n",
              "      <th>Parch_1</th>\n",
              "      <th>Parch_2</th>\n",
              "      <th>Parch_3</th>\n",
              "      <th>Parch_5</th>\n",
              "      <th>Embarked_Q</th>\n",
              "      <th>Embarked_S</th>\n",
              "    </tr>\n",
              "    <tr>\n",
              "      <th>PassengerId</th>\n",
              "      <th></th>\n",
              "      <th></th>\n",
              "      <th></th>\n",
              "      <th></th>\n",
              "      <th></th>\n",
              "      <th></th>\n",
              "      <th></th>\n",
              "      <th></th>\n",
              "      <th></th>\n",
              "      <th></th>\n",
              "      <th></th>\n",
              "      <th></th>\n",
              "      <th></th>\n",
              "      <th></th>\n",
              "      <th></th>\n",
              "      <th></th>\n",
              "      <th></th>\n",
              "    </tr>\n",
              "  </thead>\n",
              "  <tbody>\n",
              "    <tr>\n",
              "      <th>206</th>\n",
              "      <td>2.0</td>\n",
              "      <td>10.4625</td>\n",
              "      <td>0</td>\n",
              "      <td>0</td>\n",
              "      <td>1</td>\n",
              "      <td>0</td>\n",
              "      <td>0</td>\n",
              "      <td>0</td>\n",
              "      <td>0</td>\n",
              "      <td>0</td>\n",
              "      <td>0</td>\n",
              "      <td>1</td>\n",
              "      <td>0</td>\n",
              "      <td>0</td>\n",
              "      <td>0</td>\n",
              "      <td>0</td>\n",
              "      <td>1</td>\n",
              "    </tr>\n",
              "    <tr>\n",
              "      <th>132</th>\n",
              "      <td>20.0</td>\n",
              "      <td>7.0500</td>\n",
              "      <td>0</td>\n",
              "      <td>0</td>\n",
              "      <td>1</td>\n",
              "      <td>1</td>\n",
              "      <td>0</td>\n",
              "      <td>0</td>\n",
              "      <td>0</td>\n",
              "      <td>0</td>\n",
              "      <td>0</td>\n",
              "      <td>0</td>\n",
              "      <td>0</td>\n",
              "      <td>0</td>\n",
              "      <td>0</td>\n",
              "      <td>0</td>\n",
              "      <td>1</td>\n",
              "    </tr>\n",
              "  </tbody>\n",
              "</table>\n",
              "</div>"
            ],
            "text/plain": [
              "              Age     Fare  Y  ...  Parch_5  Embarked_Q  Embarked_S\n",
              "PassengerId                    ...                                 \n",
              "206           2.0  10.4625  0  ...        0           0           1\n",
              "132          20.0   7.0500  0  ...        0           0           1\n",
              "\n",
              "[2 rows x 17 columns]"
            ]
          },
          "metadata": {},
          "execution_count": 407
        }
      ]
    },
    {
      "cell_type": "code",
      "metadata": {
        "colab": {
          "base_uri": "https://localhost:8080/"
        },
        "id": "kxu_Vo9F9BDx",
        "outputId": "b0d3eaf6-e17b-4893-af15-43b3c72b9f8e"
      },
      "source": [
        "df_test.index"
      ],
      "execution_count": 408,
      "outputs": [
        {
          "output_type": "execute_result",
          "data": {
            "text/plain": [
              "Int64Index([206, 132, 811, 789, 580, 766, 311, 315, 338, 209,\n",
              "            ...\n",
              "             91, 697, 373, 657, 612, 496, 231, 104,  71, 749],\n",
              "           dtype='int64', name='PassengerId', length=268)"
            ]
          },
          "metadata": {},
          "execution_count": 408
        }
      ]
    },
    {
      "cell_type": "code",
      "metadata": {
        "colab": {
          "base_uri": "https://localhost:8080/",
          "height": 256
        },
        "id": "UugghJuJ8u0Q",
        "outputId": "7d529d94-46a0-4dcd-f0bb-4d4cf5a9398b"
      },
      "source": [
        "scaler = preprocessing.MinMaxScaler(feature_range=(0,1))\n",
        "X = scaler.fit_transform(df_test.drop(\"Y\", axis=1))\n",
        "df_test_scaled= pd.DataFrame(X, columns=df_test.drop(\"Y\", axis=1).columns, index=df_test.index)\n",
        "df_test_scaled[\"Y\"] = df_test[\"Y\"]\n",
        "df_test_scaled.head()"
      ],
      "execution_count": 409,
      "outputs": [
        {
          "output_type": "execute_result",
          "data": {
            "text/html": [
              "<div>\n",
              "<style scoped>\n",
              "    .dataframe tbody tr th:only-of-type {\n",
              "        vertical-align: middle;\n",
              "    }\n",
              "\n",
              "    .dataframe tbody tr th {\n",
              "        vertical-align: top;\n",
              "    }\n",
              "\n",
              "    .dataframe thead th {\n",
              "        text-align: right;\n",
              "    }\n",
              "</style>\n",
              "<table border=\"1\" class=\"dataframe\">\n",
              "  <thead>\n",
              "    <tr style=\"text-align: right;\">\n",
              "      <th></th>\n",
              "      <th>Age</th>\n",
              "      <th>Fare</th>\n",
              "      <th>Pclass_2</th>\n",
              "      <th>Pclass_3</th>\n",
              "      <th>Sex_male</th>\n",
              "      <th>SibSp_1</th>\n",
              "      <th>SibSp_2</th>\n",
              "      <th>SibSp_3</th>\n",
              "      <th>SibSp_4</th>\n",
              "      <th>SibSp_8</th>\n",
              "      <th>Parch_1</th>\n",
              "      <th>Parch_2</th>\n",
              "      <th>Parch_3</th>\n",
              "      <th>Parch_5</th>\n",
              "      <th>Embarked_Q</th>\n",
              "      <th>Embarked_S</th>\n",
              "      <th>Y</th>\n",
              "    </tr>\n",
              "    <tr>\n",
              "      <th>PassengerId</th>\n",
              "      <th></th>\n",
              "      <th></th>\n",
              "      <th></th>\n",
              "      <th></th>\n",
              "      <th></th>\n",
              "      <th></th>\n",
              "      <th></th>\n",
              "      <th></th>\n",
              "      <th></th>\n",
              "      <th></th>\n",
              "      <th></th>\n",
              "      <th></th>\n",
              "      <th></th>\n",
              "      <th></th>\n",
              "      <th></th>\n",
              "      <th></th>\n",
              "      <th></th>\n",
              "    </tr>\n",
              "  </thead>\n",
              "  <tbody>\n",
              "    <tr>\n",
              "      <th>206</th>\n",
              "      <td>0.017794</td>\n",
              "      <td>0.020421</td>\n",
              "      <td>0.0</td>\n",
              "      <td>1.0</td>\n",
              "      <td>0.0</td>\n",
              "      <td>0.0</td>\n",
              "      <td>0.0</td>\n",
              "      <td>0.0</td>\n",
              "      <td>0.0</td>\n",
              "      <td>0.0</td>\n",
              "      <td>1.0</td>\n",
              "      <td>0.0</td>\n",
              "      <td>0.0</td>\n",
              "      <td>0.0</td>\n",
              "      <td>0.0</td>\n",
              "      <td>1.0</td>\n",
              "      <td>0</td>\n",
              "    </tr>\n",
              "    <tr>\n",
              "      <th>132</th>\n",
              "      <td>0.274021</td>\n",
              "      <td>0.013761</td>\n",
              "      <td>0.0</td>\n",
              "      <td>1.0</td>\n",
              "      <td>1.0</td>\n",
              "      <td>0.0</td>\n",
              "      <td>0.0</td>\n",
              "      <td>0.0</td>\n",
              "      <td>0.0</td>\n",
              "      <td>0.0</td>\n",
              "      <td>0.0</td>\n",
              "      <td>0.0</td>\n",
              "      <td>0.0</td>\n",
              "      <td>0.0</td>\n",
              "      <td>0.0</td>\n",
              "      <td>1.0</td>\n",
              "      <td>0</td>\n",
              "    </tr>\n",
              "    <tr>\n",
              "      <th>811</th>\n",
              "      <td>0.359431</td>\n",
              "      <td>0.015395</td>\n",
              "      <td>0.0</td>\n",
              "      <td>1.0</td>\n",
              "      <td>1.0</td>\n",
              "      <td>0.0</td>\n",
              "      <td>0.0</td>\n",
              "      <td>0.0</td>\n",
              "      <td>0.0</td>\n",
              "      <td>0.0</td>\n",
              "      <td>0.0</td>\n",
              "      <td>0.0</td>\n",
              "      <td>0.0</td>\n",
              "      <td>0.0</td>\n",
              "      <td>0.0</td>\n",
              "      <td>1.0</td>\n",
              "      <td>0</td>\n",
              "    </tr>\n",
              "    <tr>\n",
              "      <th>789</th>\n",
              "      <td>0.003559</td>\n",
              "      <td>0.040160</td>\n",
              "      <td>0.0</td>\n",
              "      <td>1.0</td>\n",
              "      <td>1.0</td>\n",
              "      <td>1.0</td>\n",
              "      <td>0.0</td>\n",
              "      <td>0.0</td>\n",
              "      <td>0.0</td>\n",
              "      <td>0.0</td>\n",
              "      <td>0.0</td>\n",
              "      <td>1.0</td>\n",
              "      <td>0.0</td>\n",
              "      <td>0.0</td>\n",
              "      <td>0.0</td>\n",
              "      <td>1.0</td>\n",
              "      <td>1</td>\n",
              "    </tr>\n",
              "    <tr>\n",
              "      <th>580</th>\n",
              "      <td>0.444840</td>\n",
              "      <td>0.015469</td>\n",
              "      <td>0.0</td>\n",
              "      <td>1.0</td>\n",
              "      <td>1.0</td>\n",
              "      <td>0.0</td>\n",
              "      <td>0.0</td>\n",
              "      <td>0.0</td>\n",
              "      <td>0.0</td>\n",
              "      <td>0.0</td>\n",
              "      <td>0.0</td>\n",
              "      <td>0.0</td>\n",
              "      <td>0.0</td>\n",
              "      <td>0.0</td>\n",
              "      <td>0.0</td>\n",
              "      <td>1.0</td>\n",
              "      <td>1</td>\n",
              "    </tr>\n",
              "  </tbody>\n",
              "</table>\n",
              "</div>"
            ],
            "text/plain": [
              "                  Age      Fare  Pclass_2  ...  Embarked_Q  Embarked_S  Y\n",
              "PassengerId                                ...                           \n",
              "206          0.017794  0.020421       0.0  ...         0.0         1.0  0\n",
              "132          0.274021  0.013761       0.0  ...         0.0         1.0  0\n",
              "811          0.359431  0.015395       0.0  ...         0.0         1.0  0\n",
              "789          0.003559  0.040160       0.0  ...         0.0         1.0  1\n",
              "580          0.444840  0.015469       0.0  ...         0.0         1.0  1\n",
              "\n",
              "[5 rows x 17 columns]"
            ]
          },
          "metadata": {},
          "execution_count": 409
        }
      ]
    },
    {
      "cell_type": "markdown",
      "metadata": {
        "id": "KaN-_w4_BOVP"
      },
      "source": [
        "#### Random Forest select data"
      ]
    },
    {
      "cell_type": "code",
      "metadata": {
        "colab": {
          "base_uri": "https://localhost:8080/",
          "height": 347
        },
        "id": "JYWqa7OjBN63",
        "outputId": "aabf7303-eb58-45d9-a68f-8c47e71078bb"
      },
      "source": [
        "X = df_train_scaled.drop(\"Y\", axis=1).values\n",
        "y = df_train_scaled[\"Y\"].values\n",
        "feature_names = df_train_scaled.drop(\"Y\", axis=1).columns.tolist()\n",
        "## Importance\n",
        "model = ensemble.RandomForestClassifier(n_estimators=100,\n",
        "                      criterion=\"entropy\", random_state=0)\n",
        "model.fit(X,y)\n",
        "importances = model.feature_importances_\n",
        "## Put in a pandas dtf\n",
        "df_importances = pd.DataFrame({\"IMPORTANCE\":importances, \"VARIABLE\":feature_names}).sort_values(\"IMPORTANCE\", ascending=False)\n",
        "df_importances['cumsum'] =  df_importances['IMPORTANCE'].cumsum(axis=0)\n",
        "df_importances = df_importances.set_index(\"VARIABLE\")\n",
        "    \n",
        "## Plot\n",
        "fig, ax = plt.subplots(nrows=1, ncols=2, sharex=False, sharey=False)\n",
        "fig.suptitle(\"Features Importance\", fontsize=20)\n",
        "ax[0].title.set_text('variables')\n",
        "df_importances[[\"IMPORTANCE\"]].sort_values(by=\"IMPORTANCE\").plot(kind=\"barh\", legend=False, ax=ax[0]).grid(axis=\"x\")\n",
        "ax[0].set(ylabel=\"\")\n",
        "ax[1].title.set_text('cumulative')\n",
        "df_importances[[\"cumsum\"]].plot(kind=\"line\", linewidth=4, legend=False, ax=ax[1])\n",
        "ax[1].set(xlabel=\"\", xticks=np.arange(len(df_importances)), \n",
        "          xticklabels=df_importances.index)\n",
        "plt.xticks(rotation=70)\n",
        "plt.grid(axis='both')\n",
        "plt.show()"
      ],
      "execution_count": 451,
      "outputs": [
        {
          "output_type": "display_data",
          "data": {
            "image/png": "[encoded data removed]",
            "text/plain": [
              "<Figure size 432x288 with 2 Axes>"
            ]
          },
          "metadata": {}
        }
      ]
    },
    {
      "cell_type": "markdown",
      "metadata": {
        "id": "c0UUGmVR-l6E"
      },
      "source": [
        "### training and testing data ready for ML model"
      ]
    },
    {
      "cell_type": "code",
      "metadata": {
        "id": "ieZossBlCtuE"
      },
      "source": [
        "names = ['Age','Fare','Sex_male','Pclass_3','Embarked_S','SibSp_1','Parch_1','Pclass_2','Parch_2','Embarked_Q']"
      ],
      "execution_count": 452,
      "outputs": []
    },
    {
      "cell_type": "code",
      "metadata": {
        "id": "GFOLbpyxwriA"
      },
      "source": [
        "X_train = df_train_scaled[names].values\n",
        "y_train = df_train_scaled[\"Y\"].values\n",
        "X_test = df_test_scaled[names].values\n",
        "y_test = df_test_scaled[\"Y\"].values"
      ],
      "execution_count": 454,
      "outputs": []
    },
    {
      "cell_type": "code",
      "metadata": {
        "colab": {
          "base_uri": "https://localhost:8080/"
        },
        "id": "f44TVMXi_ZJZ",
        "outputId": "5acda454-94dd-4817-ddc3-44b6fa16c137"
      },
      "source": [
        "print(X_train.shape)\n",
        "print(X_test.shape)"
      ],
      "execution_count": 455,
      "outputs": [
        {
          "output_type": "stream",
          "name": "stdout",
          "text": [
            "(623, 10)\n",
            "(268, 10)\n"
          ]
        }
      ]
    },
    {
      "cell_type": "markdown",
      "metadata": {
        "id": "4PiVVFvawrwI"
      },
      "source": [
        "## Model design\n",
        "train, tune hyperparameters, validation, test"
      ]
    },
    {
      "cell_type": "markdown",
      "metadata": {
        "id": "i40fnqK1tKP5"
      },
      "source": [
        "I suggest to always try a gradient boosting algorithm (like XGBoost). It’s a machine learning technique that produces a prediction model in the form of an ensemble of weak prediction models, typically decision trees. Basically it’s similar to a Random Forest with the difference that every tree is fitted on the error of the previous one."
      ]
    },
    {
      "cell_type": "markdown",
      "metadata": {
        "id": "PUHn-zUA9gJ1"
      },
      "source": [
        "#### hyperparameter tuning"
      ]
    },
    {
      "cell_type": "code",
      "metadata": {
        "colab": {
          "base_uri": "https://localhost:8080/"
        },
        "id": "J9BKCrcp5fCI",
        "outputId": "ec01075b-4795-42d8-f426-40b96d9351cb"
      },
      "source": [
        "# find best parameters\n",
        "## call model\n",
        "model = ensemble.GradientBoostingClassifier()\n",
        "## define hyperparameters combinations to try\n",
        "param_dic = {'learning_rate':[0.15,0.1,0.05],      #weighting factor for the corrections by new trees when added to the model\n",
        "'n_estimators':[100,250],  #number of trees added to the model\n",
        "'max_depth':[2,3],    #maximum depth of the tree\n",
        "'min_samples_split':[6,8,10],    #sets the minimum number of samples to split\n",
        "'min_samples_leaf':[3,5,7],     #the minimum number of samples to form a leaf\n",
        "'max_features':[2,3,4],     #square root of features is usually a good starting point\n",
        "'subsample':[0.7,0.75,0.8]}       #the fraction of samples to be used for fitting the individual base learners. Values lower than 1 generally lead to a reduction of variance and an increase in bias.\n",
        "## random search\n",
        "random_search = model_selection.RandomizedSearchCV(model, \n",
        "       param_distributions=param_dic, n_iter=50, \n",
        "       scoring=\"accuracy\").fit(X_train, y_train)\n",
        "print(\"Best Model parameters:\", random_search.best_params_)\n",
        "print(\"Best Model mean accuracy:\", random_search.best_score_)\n",
        "model = random_search.best_estimator_"
      ],
      "execution_count": 456,
      "outputs": [
        {
          "output_type": "stream",
          "name": "stdout",
          "text": [
            "Best Model parameters: {'subsample': 0.75, 'n_estimators': 250, 'min_samples_split': 6, 'min_samples_leaf': 7, 'max_features': 4, 'max_depth': 2, 'learning_rate': 0.15}\n",
            "Best Model mean accuracy: 0.8410322580645161\n"
          ]
        }
      ]
    },
    {
      "cell_type": "markdown",
      "metadata": {
        "id": "haa1PRsqww-5"
      },
      "source": [
        "## Performance evaluation\n",
        "read the metrics"
      ]
    },
    {
      "cell_type": "code",
      "metadata": {
        "colab": {
          "base_uri": "https://localhost:8080/"
        },
        "id": "v-oy827Mw1XD",
        "outputId": "a5698f69-2e58-43a7-932b-320bf4299af4"
      },
      "source": [
        "## Accuray e AUC\n",
        "accuracy = metrics.accuracy_score(y_test, predicted)\n",
        "auc = metrics.roc_auc_score(y_test, predicted_prob)\n",
        "print(\"Accuracy (overall correct predictions):\",  round(accuracy,2))\n",
        "print(\"Auc:\", round(auc,2))\n",
        "    \n",
        "## Precision e Recall\n",
        "recall = metrics.recall_score(y_test, predicted)\n",
        "precision = metrics.precision_score(y_test, predicted)\n",
        "print(\"Recall (all 1s predicted right):\", round(recall,2))\n",
        "print(\"Precision (confidence when predicting a 1):\", round(precision,2))\n",
        "print(\"Detail:\")\n",
        "print(metrics.classification_report(y_test, predicted, target_names=[str(i) for i in np.unique(y_test)]))"
      ],
      "execution_count": 460,
      "outputs": [
        {
          "output_type": "stream",
          "name": "stdout",
          "text": [
            "Accuracy (overall correct predictions): 0.84\n",
            "Auc: 0.9\n",
            "Recall (all 1s predicted right): 0.71\n",
            "Precision (confidence when predicting a 1): 0.88\n",
            "Detail:\n",
            "              precision    recall  f1-score   support\n",
            "\n",
            "           0       0.82      0.93      0.87       158\n",
            "           1       0.88      0.71      0.78       110\n",
            "\n",
            "    accuracy                           0.84       268\n",
            "   macro avg       0.85      0.82      0.83       268\n",
            "weighted avg       0.84      0.84      0.84       268\n",
            "\n"
          ]
        }
      ]
    },
    {
      "cell_type": "markdown",
      "metadata": {
        "id": "RWCmk-PWw1nx"
      },
      "source": [
        "## Explainability\n",
        "understand how the model produces result\n"
      ]
    },
    {
      "cell_type": "code",
      "metadata": {
        "colab": {
          "base_uri": "https://localhost:8080/"
        },
        "id": "4vNPuCGNw6Cs",
        "outputId": "233bc3ef-2304-487c-b62c-7dce49772b0b"
      },
      "source": [
        "print(\"True:\", y_test[10], \"--> Pred:\", predicted[10], \"| Prob:\", np.max(predicted_prob[4]))"
      ],
      "execution_count": 466,
      "outputs": [
        {
          "output_type": "stream",
          "name": "stdout",
          "text": [
            "True: 1 --> Pred: 1 | Prob: 0.12289310794995449\n"
          ]
        }
      ]
    },
    {
      "cell_type": "code",
      "metadata": {
        "id": "X50viogFGPKi"
      },
      "source": [
        "!pip install shap\n",
        "import shap"
      ],
      "execution_count": null,
      "outputs": []
    },
    {
      "cell_type": "code",
      "metadata": {
        "id": "8Ofcr4InF3cw"
      },
      "source": [
        "'''\n",
        "Use shap to build an a explainer.\n",
        ":parameter\n",
        "    :param model: model instance (after fitting)\n",
        "    :param X_names: list\n",
        "    :param X_instance: array of size n x 1 (n,)\n",
        "    :param X_train: array - if None the model is simple machine learning, if not None then it's a deep learning model\n",
        "    :param task: string - \"classification\", \"regression\"\n",
        "    :param top: num - top features to display\n",
        ":return\n",
        "    dtf with explanations\n",
        "'''\n",
        "def explainer_shap(model, X_names, X_instance, X_train=None, task=\"classification\", top=10):\n",
        "    ## create explainer\n",
        "    ### machine learning\n",
        "    if X_train is None:\n",
        "        explainer = shap.TreeExplainer(model)\n",
        "        shap_values = explainer.shap_values(X_instance)\n",
        "    ### deep learning\n",
        "    else:\n",
        "        explainer = shap.DeepExplainer(model, data=X_train[:100])\n",
        "        shap_values = explainer.shap_values(X_instance.reshape(1,-1))[0].reshape(-1)\n",
        "\n",
        "    ## plot\n",
        "    ### classification\n",
        "    if task == \"classification\":\n",
        "        shap.decision_plot(explainer.expected_value, shap_values, link='logit', feature_order='importance',\n",
        "                           features=X_instance, feature_names=X_names, feature_display_range=slice(-1,-top-1,-1))\n",
        "    ### regression\n",
        "    else:\n",
        "        shap.waterfall_plot(explainer.expected_value[0], shap_values, \n",
        "                            features=X_instance, feature_names=X_names, max_display=top)"
      ],
      "execution_count": 477,
      "outputs": []
    },
    {
      "cell_type": "markdown",
      "metadata": {
        "id": "Whp4V7nh63h5"
      },
      "source": [
        "# Cheat Sheet"
      ]
    },
    {
      "cell_type": "markdown",
      "metadata": {
        "id": "qB9zpylS67Al"
      },
      "source": [
        "## Cheat sheet - PPDS"
      ]
    },
    {
      "cell_type": "code",
      "metadata": {
        "id": "AIVxy7WBujdI"
      },
      "source": [
        "# cheat sheet from PPDS book\n",
        "# type of an object\n",
        "type()\n",
        "# string methods\n",
        "stringName.split()\n",
        "# inline if/else\n",
        "words = [\"the\",\"list\",\"of\",\"words\"]\n",
        "x = \"long list\" if len(words) > 10 else \"short list\"\n",
        "# for loop\n",
        "for i in range(3):\n",
        "  print(list_1[i])\n",
        "# enumerate() adds a counter to an iterable \n",
        "list_2 = [\"a\", \"b\", \"c\"]\n",
        "for i in enumerate(list_2):\n",
        "  print(i)\n",
        "# string print format\n",
        "for n, i in enumerate(list_2):\n",
        "  print(f\"index {n}, value {i}\")\n",
        "# function \n",
        "def add_one(x):\n",
        "  return x+1\n",
        "add_one(7.2)\n",
        "# lambda function\n",
        "add_one = lambda x: x+1\n",
        "# time and memory use\n",
        "start = time.time()\n",
        "mem = memory_profiler.memory_useage()\n",
        "print(f\"Memory useage before: {mem[0]:.0f} mb\")\n",
        "people = house_list(5000000)\n",
        "print(f\"Memory usage after: {memory_profiler.memory_usage()[0]:.0f mb}\")\n",
        "print(f\"Time taken: {time.time() - start:.2f}s\")\n",
        "# Docstring Structure\n",
        "def function_name(param1, param2, param3):\n",
        "  \"\"\"First line is a short description of the function.\n",
        "\n",
        "  A paragraph describing in a bit more detial what the function\n",
        "  does and what algorithm it uses and common use case.\n",
        "\n",
        "  Parameters\n",
        "  ----------\n",
        "  param1: datatype\n",
        "    A description of param1\n",
        "\n",
        "  Returns\n",
        "  -------\n",
        "  datatype\n",
        "    A desciption of the output, datatype and behaviors. \n",
        "  \"\"\""
      ],
      "execution_count": null,
      "outputs": []
    },
    {
      "cell_type": "markdown",
      "metadata": {
        "id": "vEfiLi296_kl"
      },
      "source": [
        "## Cheat sheet - python ds handbook"
      ]
    },
    {
      "cell_type": "code",
      "metadata": {
        "colab": {
          "base_uri": "https://localhost:8080/"
        },
        "id": "yMLdDohYvcno",
        "outputId": "bcace957-a7fc-46b9-8c63-8bdeb4970a24"
      },
      "source": [
        "# Cheat sheet from python data science handbook\n",
        "# feature engineering: features for representing categorical data, text and image (vectorization)\n",
        "## categorical features (its numerical features not reflect algebraic quantities)\n",
        "# one-hot encoding\n",
        "dct = {'Queen Anne': 1, 'Fremont': 2, 'Wallingford': 3}\n",
        "lst = ['Queen Anne','Queen Anne','Wallingford']\n",
        "mytest = list(map(dct.get, lst))\n",
        "print(mytest)\n",
        "data = [\n",
        "               {'price': 850000, 'rooms': 4, 'neighborhood': 'Queen Anne'},\n",
        "               {'price': 700000, 'rooms': 3, 'neighborhood': 'Fremont'},\n",
        "               {'price': 650000, 'rooms': 3, 'neighborhood': 'Wallingford'},\n",
        "               {'price': 600000, 'rooms': 2, 'neighborhood': 'Fremont'}\n",
        "]\n",
        "# if data is a list of dictionaries\n",
        "from sklearn.feature_extraction import DictVectorizer \n",
        "vec = DictVectorizer(sparse=False, dtype=int) \n",
        "print(vec.fit_transform(data))"
      ],
      "execution_count": 1,
      "outputs": [
        {
          "output_type": "stream",
          "name": "stdout",
          "text": [
            "[1, 1, 3]\n",
            "[[     0      1      0 850000      4]\n",
            " [     1      0      0 700000      3]\n",
            " [     0      0      1 650000      3]\n",
            " [     1      0      0 600000      2]]\n"
          ]
        }
      ]
    },
    {
      "cell_type": "markdown",
      "metadata": {
        "id": "53VMifmv7Hyc"
      },
      "source": [
        "## Web resource"
      ]
    },
    {
      "cell_type": "markdown",
      "metadata": {
        "id": "sUuWjy_T7NH2"
      },
      "source": [
        "1. classification of titanic data\n",
        "https://towardsdatascience.com/machine-learning-with-python-classification-complete-tutorial-d2c99dc524ec\n",
        "- Environment setup: import libraries and read data\n",
        "- Data Analysis: understand the meaning and the predictive power of the variables\n",
        "- Feature engineering: extract features from raw data\n",
        "- Preprocessing: data partitioning, handle missing values, encode categorical variables, scale\n",
        "- Feature Selection: keep only the most relevant variables\n",
        "- Model design: train, tune hyperparameters, validation, test\n",
        "- Performance evaluation: read the metrics\n",
        "- Explainability: understand how the model produces results"
      ]
    },
    {
      "cell_type": "code",
      "metadata": {
        "id": "dX9qYxC37k7-"
      },
      "source": [
        "###environment setup#######\n",
        "# for data\n",
        "import pandas as pd\n",
        "import numpy as np\n",
        "## for plotting\n",
        "import matplotlib.pyplot as plt\n",
        "import seaborn as sns\n",
        "## for statistical tests\n",
        "import scipy\n",
        "import statsmodels.formula.api as smf\n",
        "import statsmodels.api as sm\n",
        "## for machine learning\n",
        "from sklearn import model_selection, preprocessing, feature_selection, ensemble, linear_model, metrics, decomposition\n",
        "## for explainer\n",
        "from lime import lime_tabular\n",
        "dtf = pd.read_csv('data_titanic.csv')\n",
        "dtf.head()\n",
        "# before that need to confirm each rowe represents an observation\n",
        "\n",
        "### data analysis########\n",
        "# get overview of the whole dataset\n",
        "# such as how many categorical and numerical variables\n",
        "# porportion of missing data\n",
        "'''\n",
        "Recognize whether a column is numerical or categorical.\n",
        ":parameter\n",
        "    :param dtf: dataframe - input data\n",
        "    :param col: str - name of the column to analyze\n",
        "    :param max_cat: num - max number of unique values to recognize a column as categorical\n",
        ":return\n",
        "    \"cat\" if the column is categorical or \"num\" otherwise\n",
        "'''\n",
        "def utils_recognize_type(dtf, col, max_cat=20):\n",
        "    if (dtf[col].dtype == \"O\") | (dtf[col].nunique() < max_cat):\n",
        "        return \"cat\"\n",
        "    else:\n",
        "        return \"num\"\n",
        "\n",
        "dic_cols = {col:utils_recognize_type(dtf, col, max_cat=20) for col in dtf.columns}\n",
        "heatmap = dtf.isnull()\n",
        "for k,v in dic_cols.items():\n",
        " if v == \"num\":\n",
        "   heatmap[k] = heatmap[k].apply(lambda x: 0.5 if x is False else 1)\n",
        " else:\n",
        "   heatmap[k] = heatmap[k].apply(lambda x: 0 if x is False else 1)\n",
        "sns.heatmap(heatmap, cbar=False).set_title('Dataset Overview')\n",
        "plt.show()\n",
        "print(\"\\033[1;37;40m Categerocial \", \"\\033[1;30;41m Numeric \", \"\\033[1;30;47m NaN \")\n",
        "# each row of the table represents a specific passenger, so set as index (primary key or the table)\n",
        "# want to understand the prediction rename it as Y\n",
        "dtf = dtf.set_index(\"PassengerId\")\n",
        "dtf = dtf.rename(columns={\"Survived\":\"Y\"})\n",
        "# visualization is the best tool for data analysis but need to know what kind of plots are more suitable for different types\n",
        "# numerical: historgram for density of the underlying distribution and box plot to graphicallky depiot groups through their quartiles; categorical: bar plot\n",
        "# caetgorical\n",
        "y = \"Y\"\n",
        "ax = dtf[y].value_counts().sort_values().plot(kind=\"barh\")\n",
        "totals= []\n",
        "for i in ax.patches:\n",
        "    totals.append(i.get_width())\n",
        "total = sum(totals)\n",
        "for i in ax.patches:\n",
        "     ax.text(i.get_width()+.3, i.get_y()+.20, \n",
        "     str(round((i.get_width()/total)*100, 2))+'%', \n",
        "     fontsize=10, color='black')\n",
        "ax.grid(axis=\"x\")\n",
        "plt.suptitle(y, fontsize=20)\n",
        "plt.show()\n",
        "# numerical \n",
        "x = \"Age\"\n",
        "fig, ax = plt.subplots(nrows=1, ncols=2,  sharex=False, sharey=False)\n",
        "fig.suptitle(x, fontsize=20)\n",
        "### distribution\n",
        "ax[0].title.set_text('distribution')\n",
        "variable = dtf[x].fillna(dtf[x].mean())\n",
        "breaks = np.quantile(variable, q=np.linspace(0, 1, 11))\n",
        "variable = variable[ (variable > breaks[0]) & (variable < \n",
        "                    breaks[10]) ]\n",
        "sns.distplot(variable, hist=True, kde=True, kde_kws={\"shade\": True}, ax=ax[0])\n",
        "des = dtf[x].describe()\n",
        "ax[0].axvline(des[\"25%\"], ls='--')\n",
        "ax[0].axvline(des[\"mean\"], ls='--')\n",
        "ax[0].axvline(des[\"75%\"], ls='--')\n",
        "ax[0].grid(True)\n",
        "des = round(des, 2).apply(lambda x: str(x))\n",
        "box = '\\n'.join((\"min: \"+des[\"min\"], \"25%: \"+des[\"25%\"], \"mean: \"+des[\"mean\"], \"75%: \"+des[\"75%\"], \"max: \"+des[\"max\"]))\n",
        "ax[0].text(0.95, 0.95, box, transform=ax[0].transAxes, fontsize=10, va='top', ha=\"right\", bbox=dict(boxstyle='round', facecolor='white', alpha=1))\n",
        "### boxplot \n",
        "ax[1].title.set_text('outliers (log scale)')\n",
        "tmp_dtf = pd.DataFrame(dtf[x])\n",
        "tmp_dtf[x] = np.log(tmp_dtf[x])\n",
        "tmp_dtf.boxplot(column=x, ax=ax[1])\n",
        "plt.show()\n",
        "# explain for this plot\n",
        "# The passengers were, on average, pretty young: the distribution is skewed towards the left side (the mean is 30 y.o and the 75th percentile is 38 y.o.). Coupled with the outliers in the box plot, the first spike in the left tail says that there was a significant amount of children.\n",
        "# take the analysis to the next level to into bivariate distrbution to undertand if age has predictive power to predict Y\n",
        "# if the distribution are different then the variable is predictive because the two groups have different patterns\n",
        "cat, num = \"Y\", \"Age\"\n",
        "fig, ax = plt.subplots(nrows=1, ncols=3,  sharex=False, sharey=False)\n",
        "fig.suptitle(x+\"   vs   \"+y, fontsize=20)\n",
        "            \n",
        "### distribution\n",
        "ax[0].title.set_text('density')\n",
        "for i in dtf[cat].unique():\n",
        "    sns.distplot(dtf[dtf[cat]==i][num], hist=False, label=i, ax=ax[0])\n",
        "ax[0].grid(True)\n",
        "### stacked\n",
        "ax[1].title.set_text('bins')\n",
        "breaks = np.quantile(dtf[num], q=np.linspace(0,1,11))\n",
        "tmp = dtf.groupby([cat, pd.cut(dtf[num], breaks, duplicates='drop')]).size().unstack().T\n",
        "tmp = tmp[dtf[cat].unique()]\n",
        "tmp[\"tot\"] = tmp.sum(axis=1)\n",
        "for col in tmp.drop(\"tot\", axis=1).columns:\n",
        "     tmp[col] = tmp[col] / tmp[\"tot\"]\n",
        "tmp.drop(\"tot\", axis=1).plot(kind='bar', stacked=True, ax=ax[1], legend=False, grid=True)\n",
        "### boxplot   \n",
        "ax[2].title.set_text('outliers')\n",
        "sns.catplot(x=cat, y=num, data=dtf, kind=\"box\", ax=ax[2])\n",
        "ax[2].grid(True)\n",
        "plt.show()\n",
        "# explain for this plot\n",
        "# These 3 plots are just different perspectives of the conclusion that Age is predictive. The survival rate is higher for younger passengers: there is a spike in the left tail of 1s distribution and the first bin (0–16 y.o.) contains the highest percentage of survived passengers.\n",
        "# when not convinced by the \"eye intuition\", you can always resort to good old statistics\n",
        "# categorical (Y 0 or 1) vs numerical (Age) use one-way ANOVA test\n",
        "cat, num = \"Y\", \"Age\"\n",
        "model = smf.ols(num+' ~ '+cat, data=dtf).fit()\n",
        "table = sm.stats.anova_lm(model)\n",
        "p = table[\"PR(>F)\"][0]\n",
        "coeff, p = None, round(p, 3)\n",
        "conclusion = \"Correlated\" if p < 0.05 else \"Non-Correlated\"\n",
        "print(\"Anova F: the variables are\", conclusion, \"(p-value: \"+str(p)+\")\")\n",
        "# Apparently the passengers' age contributed to determine their survival. That makes sense as the lives of women and children were to be saved first in a life-threatening situation, typically abandoning ship, when survival resources such as lifeboats were limited (the “women and children first” code).\n",
        "# categorical (Y) vs categorical (sex): count bax plot and precentage box plot\n",
        "x, y = \"Sex\", \"Y\"\n",
        "fig, ax = plt.subplots(nrows=1, ncols=2,  sharex=False, sharey=False)\n",
        "fig.suptitle(x+\"   vs   \"+y, fontsize=20)\n",
        "### count\n",
        "ax[0].title.set_text('count')\n",
        "order = dtf.groupby(x)[y].count().index.tolist()\n",
        "sns.catplot(x=x, hue=y, data=dtf, kind='count', order=order, ax=ax[0])\n",
        "ax[0].grid(True)\n",
        "### percentage\n",
        "ax[1].title.set_text('percentage')\n",
        "a = dtf.groupby(x)[y].count().reset_index()\n",
        "a = a.rename(columns={y:\"tot\"})\n",
        "b = dtf.groupby([x,y])[y].count()\n",
        "b = b.rename(columns={y:0}).reset_index()\n",
        "b = b.merge(a, how=\"left\")\n",
        "b[\"%\"] = b[0] / b[\"tot\"] *100\n",
        "sns.barplot(x=x, y=\"%\", hue=y, data=b,\n",
        "            ax=ax[1]).get_legend().remove()\n",
        "ax[1].grid(True)\n",
        "plt.show()\n",
        "# More than 200 female passengers (75% of the total amount of women onboard) and about 100 male passengers (less than 20%) survived. To put it another way, among women the survival rate is 75% and among men is 20%, therefore Sex is predictive. Moreover, this confirms that they gave priority to women and children.\n",
        "# categorical (Y) vs categorical (sex): chi-square test\n",
        "#  assuming that two variables are independent (null hypothesis), it tests whether the values of the contingency table for these variables are uniformly distributed. If the p-value is small enough (<0.05), the null hypothesis can be rejected and we can say that the two variables are probably dependent. \n",
        "x, y = \"Sex\", \"Y\"\n",
        "cont_table = pd.crosstab(index=dtf[x], columns=dtf[y])\n",
        "chi2_test = scipy.stats.chi2_contingency(cont_table)\n",
        "chi2, p = chi2_test[0], chi2_test[1]\n",
        "n = cont_table.sum().sum()\n",
        "phi2 = chi2/n\n",
        "r,k = cont_table.shape\n",
        "phi2corr = max(0, phi2-((k-1)*(r-1))/(n-1))\n",
        "rcorr = r-((r-1)**2)/(n-1)\n",
        "kcorr = k-((k-1)**2)/(n-1)\n",
        "coeff = np.sqrt(phi2corr/min((kcorr-1), (rcorr-1)))\n",
        "coeff, p = round(coeff, 3), round(p, 3)\n",
        "conclusion = \"Significant\" if p < 0.05 else \"Non-Significant\"\n",
        "print(\"Cramer Correlation:\", coeff, conclusion, \"(p-value:\"+str(p)+\")\")\n",
        "# conclusion of useful data variables\n",
        "# Age and Sex are examples of predictive features, but not all of the columns in the dataset are like that. For instance, Cabin seems to be a useless variable as it doesn’t provide any useful information, there are too many missing values and categories.\n",
        "\n",
        "###feature engineering######\n",
        "# create new features from raw data using domain knowledge\n",
        "# I’ll try to create a useful feature by extracting information from the Cabin column. I’m assuming that the letter at the beginning of each cabin number (i.e. “B96”) indicates some kind of section, maybe there were some lucky sections near to lifeboats. I will summarize the observations in clusters by extracting the section of each cabin:\n",
        "## Create new column\n",
        "dtf[\"Cabin_section\"] = dtf[\"Cabin\"].apply(lambda x: str(x)[0])\n",
        "## Plot contingency table\n",
        "cont_table = pd.crosstab(index=dtf[\"Cabin_section\"], \n",
        "             columns=dtf[\"Pclass\"], values=dtf[\"Y\"], aggfunc=\"sum\")\n",
        "sns.heatmap(cont_table, annot=True, cmap=\"YlGnBu\", fmt='.0f',\n",
        "            linewidths=.5).set_title( \n",
        "            'Cabin_section vs Pclass (filter: Y)' )\n",
        "# explain to this plot\n",
        "# This plot shows how survivors are distributed among cabin sections and classes (7 survivors are in section A, 35 in B, …). Most of the sections are assigned to the 1st and the 2nd classes, while the majority of missing sections (“n”) belongs to the 3rd class.\n",
        "\n",
        "###preprocessing########\n",
        "# preparing the raw data to make it suitable for machine learning model\n",
        "# 1. each observation must be represented by a single row (feature matrix)\n",
        "# 2. dataset must be partitioned into at least two sets: train set and test set\n",
        "# 3. missing values should be replaced with something\n",
        "# 4. categorical data: must be encodeed by converting labels into integers, becaus ml expects numbers not strings\n",
        "# 5.it is good practice to scale the data, it helps to normalize the data within a particular range and speed up the calculations in an algorithm.\n",
        "## split data\n",
        "dtf_train, dtf_test = model_selection.train_test_split(dtf, \n",
        "                      test_size=0.3)\n",
        "print(\"X_train shape:\", dtf_train.drop(\"Y\",axis=1).shape, \"| X_test shape:\", dtf_test.drop(\"Y\",axis=1).shape)\n",
        "print(\"y_train mean:\", round(np.mean(dtf_train[\"Y\"]),2), \"| y_test mean:\", round(np.mean(dtf_test[\"Y\"]),2))\n",
        "print(dtf_train.shape[1], \"features:\", dtf_train.drop(\"Y\",axis=1).columns.to_list())\n",
        "# missing data\n",
        "# you can replace missing data with a specific value, like 9999, that keeps trace of the missing information but change the variable distribution\n",
        "# alternatively, you can use the average of the column\n",
        "# use the average of the column from training dataset only, first split then \n",
        "dtf_train[\"Age\"] = dtf_train[\"Age\"].fillna(dtf_train[\"Age\"].mean())\n",
        "# vectorize of categoricalo data\n",
        "# he two most common encoders are the Label-Encoder (each unique label is mapped to an integer) and the One-Hot-Encoder (each label is mapped to a binary vector). The first one is suited for data with ordinality only. If applied to a column with no ordinality, like Sex, it would turn the vector [male, female, female, male, …] into [1, 2, 2, 1, …] and we would have that female > male and with an average of 1.5 which makes no sense. On the other hand, the One-Hot-Encoder would transform the previous example into two dummy variables (dichotomous quantitative variables): Male [1, 0, 0, 1, …] and Female [0, 1, 1, 0, …]. It has the advantage that the result is binary rather than ordinal and that everything sits in an orthogonal vector space, but features with high cardinality can lead to a dimensionality issue. I shall use the One-Hot-Encoding method, transforming 1 categorical column with n unique values into n-1 dummies. Let’s encode Sex as an example:\n",
        "## create dummy\n",
        "dummy = pd.get_dummies(dtf_train[\"Sex\"], \n",
        "                       prefix=\"Sex\",drop_first=True)\n",
        "dtf_train= pd.concat([dtf_train, dummy], axis=1)\n",
        "print( dtf_train.filter(like=\"Sex\", axis=1).head() )\n",
        "## drop the original categorical column\n",
        "dtf = dtf_train.drop(\"Sex\", axis=1)\n",
        "# scale the features\n",
        "# most used ones: the Standard-Scaler and the MinMax-Scaler. The first one assumes data is normally distributed and rescales it such that the distribution centres around 0 with a standard deviation of 1. However, the outliers have an influence when computing the empirical mean and standard deviation which shrink the range of the feature values, therefore this scaler can’t guarantee balanced feature scales in the presence of outliers. On the other hand, the MinMax-Scaler rescales the data set such that all feature values are in the same range (0–1). It is less affected by outliers but compresses all inliers in a narrow range. Since my data is not normally distributed, I’ll go with the MinMax-Scaler:\n",
        "scaler = preprocessing.MinMaxScaler(feature_range=(0,1))\n",
        "X = scaler.fit_transform(dtf_train.drop(\"Y\", axis=1))\n",
        "dtf_scaled= pd.DataFrame(X, columns=dtf_train.drop(\"Y\", axis=1).columns, index=dtf_train.index)\n",
        "dtf_scaled[\"Y\"] = dtf_train[\"Y\"]\n",
        "dtf_scaled.head()\n",
        "\n",
        "###feature selection#######\n",
        "# Feature selection is the process of selecting a subset of relevant variables to build the machine learning model. It makes the model easier to interpret and reduces overfitting (when the model adapts too much to the training data and performs badly outside the train set).\n",
        "# first step to manualk feature selection, then is not backaground knowledge. if there is a better equivalent, or one does the same job but better\n",
        "# I’ll explain with an example: Pclass is highly correlated with Cabin_section because, as we’ve seen before, certain sections were located in 1st class and others in the 2nd. Let’s compute the correlation matrix to see it:\n",
        "orr_matrix = dtf.copy()\n",
        "for col in corr_matrix.columns:\n",
        "    if corr_matrix[col].dtype == \"O\":\n",
        "         corr_matrix[col] = corr_matrix[col].factorize(sort=True)[0]\n",
        "corr_matrix = corr_matrix.corr(method=\"pearson\")\n",
        "sns.heatmap(corr_matrix, vmin=-1., vmax=1., annot=True, fmt='.2f', cmap=\"YlGnBu\", cbar=True, linewidths=0.5)\n",
        "plt.title(\"pearson correlation\")\n",
        "# One among Pclass and Cabin_section could be unnecessary and we may decide to drop it and keep the most useful one (i.e. the one with the lowest p-value or the one that most reduces entropy).\n",
        "# then also two ways of  atuomatic feature selection: first I will use a regularization method and compare it with the ANOVA test already mentioned before, then I will show how to get feature importance from ensemble methods.\n",
        "# LASSO regularization is a regression analysis method that performs both variable selection and regularization in order to enhance accuracy and interpretability.\n",
        "X = dtf_train.drop(\"Y\", axis=1).values\n",
        "y = dtf_train[\"Y\"].values\n",
        "feature_names = dtf_train.drop(\"Y\", axis=1).columns\n",
        "## Anova\n",
        "selector = feature_selection.SelectKBest(score_func=  \n",
        "               feature_selection.f_classif, k=10).fit(X,y)\n",
        "anova_selected_features = feature_names[selector.get_support()]\n",
        "\n",
        "## Lasso regularization\n",
        "selector = feature_selection.SelectFromModel(estimator= \n",
        "              linear_model.LogisticRegression(C=1, penalty=\"l1\", \n",
        "              solver='liblinear'), max_features=10).fit(X,y)\n",
        "lasso_selected_features = feature_names[selector.get_support()]\n",
        " \n",
        "## Plot\n",
        "dtf_features = pd.DataFrame({\"features\":feature_names})\n",
        "dtf_features[\"anova\"] = dtf_features[\"features\"].apply(lambda x: \"anova\" if x in anova_selected_features else \"\")\n",
        "dtf_features[\"num1\"] = dtf_features[\"features\"].apply(lambda x: 1 if x in anova_selected_features else 0)\n",
        "dtf_features[\"lasso\"] = dtf_features[\"features\"].apply(lambda x: \"lasso\" if x in lasso_selected_features else \"\")\n",
        "dtf_features[\"num2\"] = dtf_features[\"features\"].apply(lambda x: 1 if x in lasso_selected_features else 0)\n",
        "dtf_features[\"method\"] = dtf_features[[\"anova\",\"lasso\"]].apply(lambda x: (x[0]+\" \"+x[1]).strip(), axis=1)\n",
        "dtf_features[\"selection\"] = dtf_features[\"num1\"] + dtf_features[\"num2\"]\n",
        "sns.barplot(y=\"features\", x=\"selection\", hue=\"method\", data=dtf_features.sort_values(\"selection\", ascending=False), dodge=False)\n",
        "# explain to this plot \n",
        "The blue features are the ones selected by both ANOVA and LASSO, the others are selected by just one of the two methods.\n",
        "# Random forest is an ensemble method that consists of a number of decision trees in which every node is a condition on a single feature, designed to split the dataset into two so that similar response values end up in the same set. Features importance is computed from how much each feature decreases the entropy in a tree.\n",
        "X = dtf_train.drop(\"Y\", axis=1).values\n",
        "y = dtf_train[\"Y\"].values\n",
        "feature_names = dtf_train.drop(\"Y\", axis=1).columns.tolist()\n",
        "## Importance\n",
        "model = ensemble.RandomForestClassifier(n_estimators=100,\n",
        "                      criterion=\"entropy\", random_state=0)\n",
        "model.fit(X,y)\n",
        "importances = model.feature_importances_\n",
        "## Put in a pandas dtf\n",
        "dtf_importances = pd.DataFrame({\"IMPORTANCE\":importances, \n",
        "            \"VARIABLE\":feature_names}).sort_values(\"IMPORTANCE\", \n",
        "            ascending=False)\n",
        "dtf_importances['cumsum'] =  \n",
        "            dtf_importances['IMPORTANCE'].cumsum(axis=0)\n",
        "dtf_importances = dtf_importances.set_index(\"VARIABLE\")\n",
        "    \n",
        "## Plot\n",
        "fig, ax = plt.subplots(nrows=1, ncols=2, sharex=False, sharey=False)\n",
        "fig.suptitle(\"Features Importance\", fontsize=20)\n",
        "ax[0].title.set_text('variables')\n",
        "    dtf_importances[[\"IMPORTANCE\"]].sort_values(by=\"IMPORTANCE\").plot(\n",
        "                kind=\"barh\", legend=False, ax=ax[0]).grid(axis=\"x\")\n",
        "ax[0].set(ylabel=\"\")\n",
        "ax[1].title.set_text('cumulative')\n",
        "dtf_importances[[\"cumsum\"]].plot(kind=\"line\", linewidth=4, \n",
        "                                 legend=False, ax=ax[1])\n",
        "ax[1].set(xlabel=\"\", xticks=np.arange(len(dtf_importances)), \n",
        "          xticklabels=dtf_importances.index)\n",
        "plt.xticks(rotation=70)\n",
        "plt.grid(axis='both')\n",
        "plt.show()\n",
        "# Personally, I always try to use less features as possible, so here I select the following ones and proceed with the design, train, test and evaluation of the machine learning model:\n",
        "X_names = [\"Age\", \"Fare\", \"Sex_male\", \"SibSp\", \"Pclass_3\", \"Parch\",\n",
        "\"Cabin_section_n\", \"Embarked_S\", \"Pclass_2\", \"Cabin_section_F\", \"Cabin_section_E\", \"Cabin_section_D\"]\n",
        "X_train = dtf_train[X_names].values\n",
        "y_train = dtf_train[\"Y\"].values\n",
        "X_test = dtf_test[X_names].values\n",
        "y_test = dtf_test[\"Y\"].values\n",
        "\n",
        "###model design#######\n",
        "# I suggest to always try a gradient boosting algorithm (like XGBoost). It’s a machine learning technique that produces a prediction model in the form of an ensemble of weak prediction models, typically decision trees. Basically it’s similar to a Random Forest with the difference that every tree is fitted on the error of the previous one.\n",
        "# There a lot of hyperparameters and there is no general rule about what is best, so you just have to find the right combination that fits your data better. You could do different tries manually or you can let the computer do this tedious job with a GridSearch (tries every possible combination but takes time) or with a RandomSearch (tries randomly a fixed number of iterations)\n",
        "# . I’ll try a RandonSearch for my hyperparameter tuning: the machine will iterate n times (1000) through training data to find the combination of parameters (specified in the code below) that maximizes a scoring function used as KPI (accuracy, the ratio of the number of correct predictions to the total number of input samples):\n",
        "## call model\n",
        "model = ensemble.GradientBoostingClassifier()\n",
        "## define hyperparameters combinations to try\n",
        "param_dic = {'learning_rate':[0.15,0.1,0.05,0.01,0.005,0.001],      #weighting factor for the corrections by new trees when added to the model\n",
        "'n_estimators':[100,250,500,750,1000,1250,1500,1750],  #number of trees added to the model\n",
        "'max_depth':[2,3,4,5,6,7],    #maximum depth of the tree\n",
        "'min_samples_split':[2,4,6,8,10,20,40,60,100],    #sets the minimum number of samples to split\n",
        "'min_samples_leaf':[1,3,5,7,9],     #the minimum number of samples to form a leaf\n",
        "'max_features':[2,3,4,5,6,7],     #square root of features is usually a good starting point\n",
        "'subsample':[0.7,0.75,0.8,0.85,0.9,0.95,1]}       #the fraction of samples to be used for fitting the individual base learners. Values lower than 1 generally lead to a reduction of variance and an increase in bias.\n",
        "## random search\n",
        "random_search = model_selection.RandomizedSearchCV(model, \n",
        "       param_distributions=param_dic, n_iter=1000, \n",
        "       scoring=\"accuracy\").fit(X_train, y_train)\n",
        "print(\"Best Model parameters:\", random_search.best_params_)\n",
        "print(\"Best Model mean accuracy:\", random_search.best_score_)\n",
        "model = random_search.best_estimator_\n",
        "# Cool, that’s the best model, with a mean accuracy of 0.85, so probably 85% of predictions on the test set will be correct.\n",
        "# We can also validate this model using a k-fold cross-validation, a procedure that consists in splitting the data k times into train and validation sets and for each split the model is trained and tested. It’s used to check how well the model is able to get trained by some data and predict unseen data.\n",
        "# I’d like to clarify that I call validation set a set of examples used to tune the hyperparameters of a classifier, extracted from splitting training data. On the other end, a test set is a simulation of how the model would perform in production when it’s asked to predict observations never seen before.\n",
        "# It’s common to plot a ROC curve for every fold, a plot that illustrates how the ability of a binary classifier changes as its discrimination threshold is varied. It is created by plotting the true positive rate (1s predicted correctly) against the false positive rate (1s predicted that are actually 0s) at various threshold settings. The AUC (area under the ROC curve) indicates the probability that the classifier will rank a randomly chosen positive observation (Y=1) higher than a randomly chosen negative one (Y=0).\n",
        "# Now I’ll show an example of with 10 folds (k=10):\n",
        "cv = model_selection.StratifiedKFold(n_splits=10, shuffle=True)\n",
        "tprs, aucs = [], []\n",
        "mean_fpr = np.linspace(0,1,100)\n",
        "fig = plt.figure()\n",
        "i = 1\n",
        "for train, test in cv.split(X_train, y_train):\n",
        "   prediction = model.fit(X_train[train],\n",
        "                y_train[train]).predict_proba(X_train[test])\n",
        "   fpr, tpr, t = metrics.roc_curve(y_train[test], prediction[:, 1])\n",
        "   tprs.append(scipy.interp(mean_fpr, fpr, tpr))\n",
        "   roc_auc = metrics.auc(fpr, tpr)\n",
        "   aucs.append(roc_auc)\n",
        "   plt.plot(fpr, tpr, lw=2, alpha=0.3, label='ROC fold %d (AUC = \n",
        "            %0.2f)' % (i, roc_auc))\n",
        "   i = i+1\n",
        "   \n",
        "plt.plot([0,1], [0,1], linestyle='--', lw=2, color='black')\n",
        "mean_tpr = np.mean(tprs, axis=0)\n",
        "mean_auc = metrics.auc(mean_fpr, mean_tpr)\n",
        "plt.plot(mean_fpr, mean_tpr, color='blue', label=r'Mean ROC (AUC = \n",
        "         %0.2f )' % (mean_auc), lw=2, alpha=1)\n",
        "plt.xlabel('False Positive Rate')\n",
        "plt.ylabel('True Positive Rate')\n",
        "plt.title('K-Fold Validation')\n",
        "plt.legend(loc=\"lower right\")\n",
        "plt.show()\n",
        "# explain to this plot\n",
        "# According to this validation, we should expect an AUC score around 0.84 when making predictions on the test.\n",
        "# For the purpose of this tutorial I’d say that the performance is fine and we can proceed with the model selected by the RandomSearch. Once that the right model is selected, it can be trained on the whole train set and then tested on the test set.\n",
        "## train\n",
        "model.fit(X_train, y_train)\n",
        "## test\n",
        "predicted_prob = model.predict_proba(X_test)[:,1]\n",
        "predicted = model.predict(X_test)\n",
        "# In the code above I made two kinds of predictions: the first one is the probability that an observation is a 1, and the second is the prediction of the label (1 or 0). To get the latter you have to decide a probability threshold for which an observation can be considered as 1, I used the default threshold of 0.5.\n",
        "\n",
        "###Evaluation####\n",
        "# I’ll evaluate the model using the following common metrics: Accuracy, AUC, Precision and Recall. I already mentioned the first two, but I reckon that the others are way more important. Precision is the fraction of 1s (or 0s) that the model predicted correctly among all predicted 1s (or 0s), so it can be seen as a sort of confidence level when predicting a 1 (or a 0). Recall is the portion of 1s (or 0s) that the model predicted correctly among all 1s (or 0s) in the test set, basically it’s the true 1 rate. Combining Precision and Recall with an armonic mean, you get the F1-score.\n",
        "## Accuray e AUC\n",
        "accuracy = metrics.accuracy_score(y_test, predicted)\n",
        "auc = metrics.roc_auc_score(y_test, predicted_prob)\n",
        "print(\"Accuracy (overall correct predictions):\",  round(accuracy,2))\n",
        "print(\"Auc:\", round(auc,2))   \n",
        "## Precision e Recall\n",
        "recall = metrics.recall_score(y_test, predicted)\n",
        "precision = metrics.precision_score(y_test, predicted)\n",
        "print(\"Recall (all 1s predicted right):\", round(recall,2))\n",
        "print(\"Precision (confidence when predicting a 1):\", round(precision,2))\n",
        "print(\"Detail:\")\n",
        "print(metrics.classification_report(y_test, predicted, target_names=[str(i) for i in np.unique(y_test)]))\n",
        "# explain to print outcome \n",
        "# As expected, the general accuracy of the model is around 85%. It predicted 71% of 1s correctly with a precision of 84% and 92% of 0s with a precision of 85%. In order to understand these metrics better, I’ll break down the results in a confusion matrix:\n",
        "classes = np.unique(y_test)\n",
        "fig, ax = plt.subplots()\n",
        "cm = metrics.confusion_matrix(y_test, predicted, labels=classes)\n",
        "sns.heatmap(cm, annot=True, fmt='d', cmap=plt.cm.Blues, cbar=False)\n",
        "ax.set(xlabel=\"Pred\", ylabel=\"True\", title=\"Confusion matrix\")\n",
        "ax.set_yticklabels(labels=classes, rotation=0)\n",
        "plt.show()\n",
        "# Choosing a threshold of 0.5 to decide whether a prediction is a 1 or 0 led to this result. Would it be different with another one? Definitely yes, but there is no threshold that would bring the top score on both precision and recall, choosing a threshold means to make a compromise between these two metrics. I’ll show what I mean by plotting the ROC curve and the precision-recall curve of the test result:\n",
        "classes = np.unique(y_test)\n",
        "fig, ax = plt.subplots(nrows=1, ncols=2)\n",
        "## plot ROC curve\n",
        "fpr, tpr, thresholds = metrics.roc_curve(y_test, predicted_prob)\n",
        "roc_auc = metrics.auc(fpr, tpr)     \n",
        "ax[0].plot(fpr, tpr, color='darkorange', lw=3, label='area = %0.2f' % roc_auc)\n",
        "ax[0].plot([0,1], [0,1], color='navy', lw=3, linestyle='--')\n",
        "ax[0].hlines(y=recall, xmin=0, xmax=1-cm[0,0]/(cm[0,0]+cm[0,1]), color='red', linestyle='--', alpha=0.7, label=\"chosen threshold\")\n",
        "ax[0].vlines(x=1-cm[0,0]/(cm[0,0]+cm[0,1]), ymin=0, ymax=recall, color='red', linestyle='--', alpha=0.7)\n",
        "ax[0].set(xlabel='False Positive Rate', ylabel=\"True Positive Rate (Recall)\", title=\"Receiver operating characteristic\")     \n",
        "ax.legend(loc=\"lower right\")\n",
        "ax.grid(True)\n",
        "## annotate ROC thresholds\n",
        "thres_in_plot = []\n",
        "for i,t in enumerate(thresholds):\n",
        "     t = np.round(t,1)\n",
        "     if t not in thres_in_plot:\n",
        "         ax.annotate(t, xy=(fpr[i],tpr[i]), xytext=(fpr[i],tpr[i]), \n",
        "              textcoords='offset points', ha='left', va='bottom')\n",
        "         thres_in_plot.append(t)\n",
        "     else:\n",
        "         next\n",
        "## plot P-R curve\n",
        "precisions, recalls, thresholds = metrics.precision_recall_curve(y_test, predicted_prob)\n",
        "roc_auc = metrics.auc(recalls, precisions)\n",
        "ax[1].plot(recalls, precisions, color='darkorange', lw=3, label='area = %0.2f' % roc_auc)\n",
        "ax[1].plot([0,1], [(cm[1,0]+cm[1,0])/len(y_test), (cm[1,0]+cm[1,0])/len(y_test)], linestyle='--', color='navy', lw=3)\n",
        "ax[1].hlines(y=precision, xmin=0, xmax=recall, color='red', linestyle='--', alpha=0.7, label=\"chosen threshold\")\n",
        "ax[1].vlines(x=recall, ymin=0, ymax=precision, color='red', linestyle='--', alpha=0.7)\n",
        "ax[1].set(xlabel='Recall', ylabel=\"Precision\", title=\"Precision-Recall curve\")\n",
        "ax[1].legend(loc=\"lower left\")\n",
        "ax[1].grid(True)\n",
        "## annotate P-R thresholds\n",
        "thres_in_plot = []\n",
        "for i,t in enumerate(thresholds):\n",
        "    t = np.round(t,1)\n",
        "    if t not in thres_in_plot:\n",
        "         ax.annotate(np.round(t,1), xy=(recalls[i],precisions[i]), \n",
        "               xytext=(recalls[i],precisions[i]), \n",
        "               textcoords='offset points', ha='left', va='bottom')\n",
        "         thres_in_plot.append(t)\n",
        "    else:\n",
        "         next\n",
        "plt.show()\n",
        "# explain to this plot \n",
        "# Every point of these curves represents a confusion matrix obtained with a different threshold (the numbers printed on the curves). I could use a threshold of 0.1 and gain a recall of 0.9, meaning that the model would predict 90% of 1s correctly, but the precision would drop to 0.4, meaning that the model would predict a lot of false positives. So it really depends on the type of use case and in particular whether a false positive has an higher cost of a false negative.\n",
        "# When the dataset is balanced and metrics aren’t specified by project stakeholder, I usually choose the threshold that maximize the F1-score. Here’s how:\n",
        "## calculate scores for different thresholds\n",
        "dic_scores = {'accuracy':[], 'precision':[], 'recall':[], 'f1':[]}\n",
        "XX_train, XX_test, yy_train, yy_test = model_selection.train_test_split(X_train, y_train, test_size=0.2)\n",
        "predicted_prob = model.fit(XX_train, yy_train).predict_proba(XX_test)[:,1]\n",
        "thresholds = []\n",
        "for threshold in np.arange(0.1, 1, step=0.1):\n",
        "    predicted = (predicted_prob > threshold)\n",
        "    thresholds.append(threshold)\n",
        "        dic_scores[\"accuracy\"].append(metrics.accuracy_score(yy_test, predicted))\n",
        "dic_scores[\"precision\"].append(metrics.precision_score(yy_test, predicted))\n",
        "dic_scores[\"recall\"].append(metrics.recall_score(yy_test, predicted))\n",
        "dic_scores[\"f1\"].append(metrics.f1_score(yy_test, predicted))       \n",
        "## plot\n",
        "dtf_scores = pd.DataFrame(dic_scores).set_index(pd.Index(thresholds))    \n",
        "dtf_scores.plot(ax=ax, title=\"Threshold Selection\")\n",
        "plt.show()\n",
        "# Before moving forward with the last section of this long tutorial, I’d like to say that we can’t say that the model is good or bad yet. The accuracy is 0.85, is it high? Compared to what? You need a baseline to compare your model with. Maybe the project you’re working on is about building a new model to replace an old one that can be used as baseline, or you can train different machine learning models on the same train set and compare the performance on a test set.\n",
        "\n",
        "###Explainability##########"
      ],
      "execution_count": null,
      "outputs": []
    },
    {
      "cell_type": "code",
      "metadata": {
        "id": "lilZenclNOxR"
      },
      "source": [
        "# You analyzed and understood the data, you trained a model and tested it, you’re even satisfied with the performance. You think you’re done? Wrong. High chance that the project stakeholder doesn’t care about your metrics and doesn’t understand your algorithm, so you have to show that your machine learning model is not a black box.\n",
        "# The Lime package can help us to build an explainer. To give an illustration I will take a random observation from the test set and see what the model predicts:\n",
        "print(\"True:\", y_test[4], \"--> Pred:\", predicted[4], \"| Prob:\", np.max(predicted_prob[4]))\n",
        "# The model thinks that this observation is a 1 with a probability of 0.93 and in fact this passenger did survive. Why? Let’s use the explainer:\n",
        "explainer = lime_tabular.LimeTabularExplainer(training_data=X_train, feature_names=X_names, class_names=np.unique(y_train), mode=\"classification\")\n",
        "explained = explainer.explain_instance(X_test[4], model.predict_proba, num_features=10)\n",
        "explained.as_pyplot_figure()\n",
        "# The main factors for this particular prediction are that the passenger is female (Sex_male = 0), young (Age ≤ 22) and traveling in 1st class (Pclass_3 = 0 and Pclass_2 = 0).\n",
        "# The confusion matrix is a great tool to show how the testing went, but I also plot the classification regions to give a visual aid of what observations the model predicted correctly and what it missed. In order to plot the data in 2 dimensions some dimensionality reduction is required (the process of reducing the number of features by obtaining a set of principal variables). I will give an example using the PCA algorithm to summarize the data into 2 variables obtained with linear combinations of the features.\n",
        "## PCA\n",
        "pca = decomposition.PCA(n_components=2)\n",
        "X_train_2d = pca.fit_transform(X_train)\n",
        "X_test_2d = pca.transform(X_test)\n",
        "## train 2d model\n",
        "model_2d = ensemble.GradientBoostingClassifier()\n",
        "model_2d.fit(X_train, y_train)\n",
        "    \n",
        "## plot classification regions\n",
        "from matplotlib.colors import ListedColormap\n",
        "colors = {np.unique(y_test)[0]:\"black\", np.unique(y_test)[1]:\"green\"}\n",
        "X1, X2 = np.meshgrid(np.arange(start=X_test[:,0].min()-1, stop=X_test[:,0].max()+1, step=0.01),\n",
        "np.arange(start=X_test[:,1].min()-1, stop=X_test[:,1].max()+1, step=0.01))\n",
        "fig, ax = plt.subplots()\n",
        "Y = model_2d.predict(np.array([X1.ravel(), X2.ravel()]).T).reshape(X1.shape)\n",
        "ax.contourf(X1, X2, Y, alpha=0.5, cmap=ListedColormap(list(colors.values())))\n",
        "ax.set(xlim=[X1.min(),X1.max()], ylim=[X2.min(),X2.max()], title=\"Classification regions\")\n",
        "for i in np.unique(y_test):\n",
        "    ax.scatter(X_test[y_test==i, 0], X_test[y_test==i, 1], \n",
        "               c=colors[i], label=\"true \"+str(i))  \n",
        "plt.legend()\n",
        "plt.show()"
      ],
      "execution_count": null,
      "outputs": []
    },
    {
      "cell_type": "markdown",
      "metadata": {
        "id": "UgRRoPPkkoXr"
      },
      "source": [
        "plots: https://towardsdatascience.com/how-to-perform-exploratory-data-analysis-with-seaborn-97e3413e841d"
      ]
    }
  ]
}